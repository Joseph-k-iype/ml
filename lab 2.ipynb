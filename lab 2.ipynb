{
 "cells": [
  {
   "cell_type": "code",
   "execution_count": 1,
   "id": "066e293d",
   "metadata": {},
   "outputs": [],
   "source": [
    "import pandas as pd\n",
    "import numpy as np\n",
    "import matplotlib.pyplot as plt\n",
    "import seaborn as sns\n"
   ]
  },
  {
   "cell_type": "code",
   "execution_count": 3,
   "id": "f2a40915",
   "metadata": {},
   "outputs": [
    {
     "data": {
      "text/html": [
       "<div>\n",
       "<style scoped>\n",
       "    .dataframe tbody tr th:only-of-type {\n",
       "        vertical-align: middle;\n",
       "    }\n",
       "\n",
       "    .dataframe tbody tr th {\n",
       "        vertical-align: top;\n",
       "    }\n",
       "\n",
       "    .dataframe thead th {\n",
       "        text-align: right;\n",
       "    }\n",
       "</style>\n",
       "<table border=\"1\" class=\"dataframe\">\n",
       "  <thead>\n",
       "    <tr style=\"text-align: right;\">\n",
       "      <th></th>\n",
       "      <th>Suburb</th>\n",
       "      <th>Address</th>\n",
       "      <th>Rooms</th>\n",
       "      <th>Type</th>\n",
       "      <th>Price</th>\n",
       "      <th>Method</th>\n",
       "      <th>SellerG</th>\n",
       "      <th>Date</th>\n",
       "      <th>Distance</th>\n",
       "      <th>Postcode</th>\n",
       "      <th>...</th>\n",
       "      <th>Bathroom</th>\n",
       "      <th>Car</th>\n",
       "      <th>Landsize</th>\n",
       "      <th>BuildingArea</th>\n",
       "      <th>YearBuilt</th>\n",
       "      <th>CouncilArea</th>\n",
       "      <th>Lattitude</th>\n",
       "      <th>Longtitude</th>\n",
       "      <th>Regionname</th>\n",
       "      <th>Propertycount</th>\n",
       "    </tr>\n",
       "  </thead>\n",
       "  <tbody>\n",
       "    <tr>\n",
       "      <th>0</th>\n",
       "      <td>Abbotsford</td>\n",
       "      <td>68 Studley St</td>\n",
       "      <td>2</td>\n",
       "      <td>h</td>\n",
       "      <td>NaN</td>\n",
       "      <td>SS</td>\n",
       "      <td>Jellis</td>\n",
       "      <td>3/09/2016</td>\n",
       "      <td>2.5</td>\n",
       "      <td>3067.0</td>\n",
       "      <td>...</td>\n",
       "      <td>1.0</td>\n",
       "      <td>1.0</td>\n",
       "      <td>126.0</td>\n",
       "      <td>NaN</td>\n",
       "      <td>NaN</td>\n",
       "      <td>Yarra City Council</td>\n",
       "      <td>-37.8014</td>\n",
       "      <td>144.9958</td>\n",
       "      <td>Northern Metropolitan</td>\n",
       "      <td>4019.0</td>\n",
       "    </tr>\n",
       "    <tr>\n",
       "      <th>1</th>\n",
       "      <td>Abbotsford</td>\n",
       "      <td>85 Turner St</td>\n",
       "      <td>2</td>\n",
       "      <td>h</td>\n",
       "      <td>1480000.0</td>\n",
       "      <td>S</td>\n",
       "      <td>Biggin</td>\n",
       "      <td>3/12/2016</td>\n",
       "      <td>2.5</td>\n",
       "      <td>3067.0</td>\n",
       "      <td>...</td>\n",
       "      <td>1.0</td>\n",
       "      <td>1.0</td>\n",
       "      <td>202.0</td>\n",
       "      <td>NaN</td>\n",
       "      <td>NaN</td>\n",
       "      <td>Yarra City Council</td>\n",
       "      <td>-37.7996</td>\n",
       "      <td>144.9984</td>\n",
       "      <td>Northern Metropolitan</td>\n",
       "      <td>4019.0</td>\n",
       "    </tr>\n",
       "    <tr>\n",
       "      <th>2</th>\n",
       "      <td>Abbotsford</td>\n",
       "      <td>25 Bloomburg St</td>\n",
       "      <td>2</td>\n",
       "      <td>h</td>\n",
       "      <td>1035000.0</td>\n",
       "      <td>S</td>\n",
       "      <td>Biggin</td>\n",
       "      <td>4/02/2016</td>\n",
       "      <td>2.5</td>\n",
       "      <td>3067.0</td>\n",
       "      <td>...</td>\n",
       "      <td>1.0</td>\n",
       "      <td>0.0</td>\n",
       "      <td>156.0</td>\n",
       "      <td>79.0</td>\n",
       "      <td>1900.0</td>\n",
       "      <td>Yarra City Council</td>\n",
       "      <td>-37.8079</td>\n",
       "      <td>144.9934</td>\n",
       "      <td>Northern Metropolitan</td>\n",
       "      <td>4019.0</td>\n",
       "    </tr>\n",
       "    <tr>\n",
       "      <th>3</th>\n",
       "      <td>Abbotsford</td>\n",
       "      <td>18/659 Victoria St</td>\n",
       "      <td>3</td>\n",
       "      <td>u</td>\n",
       "      <td>NaN</td>\n",
       "      <td>VB</td>\n",
       "      <td>Rounds</td>\n",
       "      <td>4/02/2016</td>\n",
       "      <td>2.5</td>\n",
       "      <td>3067.0</td>\n",
       "      <td>...</td>\n",
       "      <td>2.0</td>\n",
       "      <td>1.0</td>\n",
       "      <td>0.0</td>\n",
       "      <td>NaN</td>\n",
       "      <td>NaN</td>\n",
       "      <td>Yarra City Council</td>\n",
       "      <td>-37.8114</td>\n",
       "      <td>145.0116</td>\n",
       "      <td>Northern Metropolitan</td>\n",
       "      <td>4019.0</td>\n",
       "    </tr>\n",
       "    <tr>\n",
       "      <th>4</th>\n",
       "      <td>Abbotsford</td>\n",
       "      <td>5 Charles St</td>\n",
       "      <td>3</td>\n",
       "      <td>h</td>\n",
       "      <td>1465000.0</td>\n",
       "      <td>SP</td>\n",
       "      <td>Biggin</td>\n",
       "      <td>4/03/2017</td>\n",
       "      <td>2.5</td>\n",
       "      <td>3067.0</td>\n",
       "      <td>...</td>\n",
       "      <td>2.0</td>\n",
       "      <td>0.0</td>\n",
       "      <td>134.0</td>\n",
       "      <td>150.0</td>\n",
       "      <td>1900.0</td>\n",
       "      <td>Yarra City Council</td>\n",
       "      <td>-37.8093</td>\n",
       "      <td>144.9944</td>\n",
       "      <td>Northern Metropolitan</td>\n",
       "      <td>4019.0</td>\n",
       "    </tr>\n",
       "    <tr>\n",
       "      <th>5</th>\n",
       "      <td>Abbotsford</td>\n",
       "      <td>40 Federation La</td>\n",
       "      <td>3</td>\n",
       "      <td>h</td>\n",
       "      <td>850000.0</td>\n",
       "      <td>PI</td>\n",
       "      <td>Biggin</td>\n",
       "      <td>4/03/2017</td>\n",
       "      <td>2.5</td>\n",
       "      <td>3067.0</td>\n",
       "      <td>...</td>\n",
       "      <td>2.0</td>\n",
       "      <td>1.0</td>\n",
       "      <td>94.0</td>\n",
       "      <td>NaN</td>\n",
       "      <td>NaN</td>\n",
       "      <td>Yarra City Council</td>\n",
       "      <td>-37.7969</td>\n",
       "      <td>144.9969</td>\n",
       "      <td>Northern Metropolitan</td>\n",
       "      <td>4019.0</td>\n",
       "    </tr>\n",
       "    <tr>\n",
       "      <th>6</th>\n",
       "      <td>Abbotsford</td>\n",
       "      <td>55a Park St</td>\n",
       "      <td>4</td>\n",
       "      <td>h</td>\n",
       "      <td>1600000.0</td>\n",
       "      <td>VB</td>\n",
       "      <td>Nelson</td>\n",
       "      <td>4/06/2016</td>\n",
       "      <td>2.5</td>\n",
       "      <td>3067.0</td>\n",
       "      <td>...</td>\n",
       "      <td>1.0</td>\n",
       "      <td>2.0</td>\n",
       "      <td>120.0</td>\n",
       "      <td>142.0</td>\n",
       "      <td>2014.0</td>\n",
       "      <td>Yarra City Council</td>\n",
       "      <td>-37.8072</td>\n",
       "      <td>144.9941</td>\n",
       "      <td>Northern Metropolitan</td>\n",
       "      <td>4019.0</td>\n",
       "    </tr>\n",
       "    <tr>\n",
       "      <th>7</th>\n",
       "      <td>Abbotsford</td>\n",
       "      <td>16 Maugie St</td>\n",
       "      <td>4</td>\n",
       "      <td>h</td>\n",
       "      <td>NaN</td>\n",
       "      <td>SN</td>\n",
       "      <td>Nelson</td>\n",
       "      <td>6/08/2016</td>\n",
       "      <td>2.5</td>\n",
       "      <td>3067.0</td>\n",
       "      <td>...</td>\n",
       "      <td>2.0</td>\n",
       "      <td>2.0</td>\n",
       "      <td>400.0</td>\n",
       "      <td>220.0</td>\n",
       "      <td>2006.0</td>\n",
       "      <td>Yarra City Council</td>\n",
       "      <td>-37.7965</td>\n",
       "      <td>144.9965</td>\n",
       "      <td>Northern Metropolitan</td>\n",
       "      <td>4019.0</td>\n",
       "    </tr>\n",
       "    <tr>\n",
       "      <th>8</th>\n",
       "      <td>Abbotsford</td>\n",
       "      <td>53 Turner St</td>\n",
       "      <td>2</td>\n",
       "      <td>h</td>\n",
       "      <td>NaN</td>\n",
       "      <td>S</td>\n",
       "      <td>Biggin</td>\n",
       "      <td>6/08/2016</td>\n",
       "      <td>2.5</td>\n",
       "      <td>3067.0</td>\n",
       "      <td>...</td>\n",
       "      <td>1.0</td>\n",
       "      <td>2.0</td>\n",
       "      <td>201.0</td>\n",
       "      <td>NaN</td>\n",
       "      <td>1900.0</td>\n",
       "      <td>Yarra City Council</td>\n",
       "      <td>-37.7995</td>\n",
       "      <td>144.9974</td>\n",
       "      <td>Northern Metropolitan</td>\n",
       "      <td>4019.0</td>\n",
       "    </tr>\n",
       "    <tr>\n",
       "      <th>9</th>\n",
       "      <td>Abbotsford</td>\n",
       "      <td>99 Turner St</td>\n",
       "      <td>2</td>\n",
       "      <td>h</td>\n",
       "      <td>NaN</td>\n",
       "      <td>S</td>\n",
       "      <td>Collins</td>\n",
       "      <td>6/08/2016</td>\n",
       "      <td>2.5</td>\n",
       "      <td>3067.0</td>\n",
       "      <td>...</td>\n",
       "      <td>2.0</td>\n",
       "      <td>1.0</td>\n",
       "      <td>202.0</td>\n",
       "      <td>NaN</td>\n",
       "      <td>1900.0</td>\n",
       "      <td>Yarra City Council</td>\n",
       "      <td>-37.7996</td>\n",
       "      <td>144.9989</td>\n",
       "      <td>Northern Metropolitan</td>\n",
       "      <td>4019.0</td>\n",
       "    </tr>\n",
       "    <tr>\n",
       "      <th>10</th>\n",
       "      <td>Abbotsford</td>\n",
       "      <td>129 Charles St</td>\n",
       "      <td>2</td>\n",
       "      <td>h</td>\n",
       "      <td>941000.0</td>\n",
       "      <td>S</td>\n",
       "      <td>Jellis</td>\n",
       "      <td>7/05/2016</td>\n",
       "      <td>2.5</td>\n",
       "      <td>3067.0</td>\n",
       "      <td>...</td>\n",
       "      <td>1.0</td>\n",
       "      <td>0.0</td>\n",
       "      <td>181.0</td>\n",
       "      <td>NaN</td>\n",
       "      <td>NaN</td>\n",
       "      <td>Yarra City Council</td>\n",
       "      <td>-37.8041</td>\n",
       "      <td>144.9953</td>\n",
       "      <td>Northern Metropolitan</td>\n",
       "      <td>4019.0</td>\n",
       "    </tr>\n",
       "    <tr>\n",
       "      <th>11</th>\n",
       "      <td>Abbotsford</td>\n",
       "      <td>124 Yarra St</td>\n",
       "      <td>3</td>\n",
       "      <td>h</td>\n",
       "      <td>1876000.0</td>\n",
       "      <td>S</td>\n",
       "      <td>Nelson</td>\n",
       "      <td>7/05/2016</td>\n",
       "      <td>2.5</td>\n",
       "      <td>3067.0</td>\n",
       "      <td>...</td>\n",
       "      <td>2.0</td>\n",
       "      <td>0.0</td>\n",
       "      <td>245.0</td>\n",
       "      <td>210.0</td>\n",
       "      <td>1910.0</td>\n",
       "      <td>Yarra City Council</td>\n",
       "      <td>-37.8024</td>\n",
       "      <td>144.9993</td>\n",
       "      <td>Northern Metropolitan</td>\n",
       "      <td>4019.0</td>\n",
       "    </tr>\n",
       "    <tr>\n",
       "      <th>12</th>\n",
       "      <td>Abbotsford</td>\n",
       "      <td>121/56 Nicholson St</td>\n",
       "      <td>2</td>\n",
       "      <td>u</td>\n",
       "      <td>NaN</td>\n",
       "      <td>PI</td>\n",
       "      <td>Biggin</td>\n",
       "      <td>7/11/2016</td>\n",
       "      <td>2.5</td>\n",
       "      <td>3067.0</td>\n",
       "      <td>...</td>\n",
       "      <td>2.0</td>\n",
       "      <td>1.0</td>\n",
       "      <td>4292.0</td>\n",
       "      <td>82.0</td>\n",
       "      <td>2009.0</td>\n",
       "      <td>Yarra City Council</td>\n",
       "      <td>-37.8078</td>\n",
       "      <td>144.9965</td>\n",
       "      <td>Northern Metropolitan</td>\n",
       "      <td>4019.0</td>\n",
       "    </tr>\n",
       "    <tr>\n",
       "      <th>13</th>\n",
       "      <td>Abbotsford</td>\n",
       "      <td>17 Raphael St</td>\n",
       "      <td>4</td>\n",
       "      <td>h</td>\n",
       "      <td>NaN</td>\n",
       "      <td>W</td>\n",
       "      <td>Biggin</td>\n",
       "      <td>7/11/2016</td>\n",
       "      <td>2.5</td>\n",
       "      <td>3067.0</td>\n",
       "      <td>...</td>\n",
       "      <td>2.0</td>\n",
       "      <td>0.0</td>\n",
       "      <td>230.0</td>\n",
       "      <td>147.0</td>\n",
       "      <td>1860.0</td>\n",
       "      <td>Yarra City Council</td>\n",
       "      <td>-37.8066</td>\n",
       "      <td>144.9936</td>\n",
       "      <td>Northern Metropolitan</td>\n",
       "      <td>4019.0</td>\n",
       "    </tr>\n",
       "    <tr>\n",
       "      <th>14</th>\n",
       "      <td>Abbotsford</td>\n",
       "      <td>98 Charles St</td>\n",
       "      <td>2</td>\n",
       "      <td>h</td>\n",
       "      <td>1636000.0</td>\n",
       "      <td>S</td>\n",
       "      <td>Nelson</td>\n",
       "      <td>8/10/2016</td>\n",
       "      <td>2.5</td>\n",
       "      <td>3067.0</td>\n",
       "      <td>...</td>\n",
       "      <td>1.0</td>\n",
       "      <td>2.0</td>\n",
       "      <td>256.0</td>\n",
       "      <td>107.0</td>\n",
       "      <td>1890.0</td>\n",
       "      <td>Yarra City Council</td>\n",
       "      <td>-37.8060</td>\n",
       "      <td>144.9954</td>\n",
       "      <td>Northern Metropolitan</td>\n",
       "      <td>4019.0</td>\n",
       "    </tr>\n",
       "    <tr>\n",
       "      <th>15</th>\n",
       "      <td>Abbotsford</td>\n",
       "      <td>217 Langridge St</td>\n",
       "      <td>3</td>\n",
       "      <td>h</td>\n",
       "      <td>1000000.0</td>\n",
       "      <td>S</td>\n",
       "      <td>Jellis</td>\n",
       "      <td>8/10/2016</td>\n",
       "      <td>2.5</td>\n",
       "      <td>3067.0</td>\n",
       "      <td>...</td>\n",
       "      <td>NaN</td>\n",
       "      <td>NaN</td>\n",
       "      <td>NaN</td>\n",
       "      <td>NaN</td>\n",
       "      <td>NaN</td>\n",
       "      <td>Yarra City Council</td>\n",
       "      <td>NaN</td>\n",
       "      <td>NaN</td>\n",
       "      <td>Northern Metropolitan</td>\n",
       "      <td>4019.0</td>\n",
       "    </tr>\n",
       "    <tr>\n",
       "      <th>16</th>\n",
       "      <td>Abbotsford</td>\n",
       "      <td>18a Mollison St</td>\n",
       "      <td>2</td>\n",
       "      <td>t</td>\n",
       "      <td>745000.0</td>\n",
       "      <td>S</td>\n",
       "      <td>Jellis</td>\n",
       "      <td>8/10/2016</td>\n",
       "      <td>2.5</td>\n",
       "      <td>3067.0</td>\n",
       "      <td>...</td>\n",
       "      <td>NaN</td>\n",
       "      <td>NaN</td>\n",
       "      <td>NaN</td>\n",
       "      <td>NaN</td>\n",
       "      <td>NaN</td>\n",
       "      <td>Yarra City Council</td>\n",
       "      <td>NaN</td>\n",
       "      <td>NaN</td>\n",
       "      <td>Northern Metropolitan</td>\n",
       "      <td>4019.0</td>\n",
       "    </tr>\n",
       "    <tr>\n",
       "      <th>17</th>\n",
       "      <td>Abbotsford</td>\n",
       "      <td>6/241 Nicholson St</td>\n",
       "      <td>1</td>\n",
       "      <td>u</td>\n",
       "      <td>300000.0</td>\n",
       "      <td>S</td>\n",
       "      <td>Biggin</td>\n",
       "      <td>8/10/2016</td>\n",
       "      <td>2.5</td>\n",
       "      <td>3067.0</td>\n",
       "      <td>...</td>\n",
       "      <td>1.0</td>\n",
       "      <td>1.0</td>\n",
       "      <td>0.0</td>\n",
       "      <td>NaN</td>\n",
       "      <td>NaN</td>\n",
       "      <td>Yarra City Council</td>\n",
       "      <td>-37.8008</td>\n",
       "      <td>144.9973</td>\n",
       "      <td>Northern Metropolitan</td>\n",
       "      <td>4019.0</td>\n",
       "    </tr>\n",
       "    <tr>\n",
       "      <th>18</th>\n",
       "      <td>Abbotsford</td>\n",
       "      <td>10 Valiant St</td>\n",
       "      <td>2</td>\n",
       "      <td>h</td>\n",
       "      <td>1097000.0</td>\n",
       "      <td>S</td>\n",
       "      <td>Biggin</td>\n",
       "      <td>8/10/2016</td>\n",
       "      <td>2.5</td>\n",
       "      <td>3067.0</td>\n",
       "      <td>...</td>\n",
       "      <td>1.0</td>\n",
       "      <td>2.0</td>\n",
       "      <td>220.0</td>\n",
       "      <td>75.0</td>\n",
       "      <td>1900.0</td>\n",
       "      <td>Yarra City Council</td>\n",
       "      <td>-37.8010</td>\n",
       "      <td>144.9989</td>\n",
       "      <td>Northern Metropolitan</td>\n",
       "      <td>4019.0</td>\n",
       "    </tr>\n",
       "    <tr>\n",
       "      <th>19</th>\n",
       "      <td>Abbotsford</td>\n",
       "      <td>403/609 Victoria St</td>\n",
       "      <td>2</td>\n",
       "      <td>u</td>\n",
       "      <td>542000.0</td>\n",
       "      <td>S</td>\n",
       "      <td>Dingle</td>\n",
       "      <td>8/10/2016</td>\n",
       "      <td>2.5</td>\n",
       "      <td>3067.0</td>\n",
       "      <td>...</td>\n",
       "      <td>NaN</td>\n",
       "      <td>NaN</td>\n",
       "      <td>NaN</td>\n",
       "      <td>NaN</td>\n",
       "      <td>NaN</td>\n",
       "      <td>Yarra City Council</td>\n",
       "      <td>NaN</td>\n",
       "      <td>NaN</td>\n",
       "      <td>Northern Metropolitan</td>\n",
       "      <td>4019.0</td>\n",
       "    </tr>\n",
       "  </tbody>\n",
       "</table>\n",
       "<p>20 rows × 21 columns</p>\n",
       "</div>"
      ],
      "text/plain": [
       "        Suburb              Address  Rooms Type      Price Method  SellerG  \\\n",
       "0   Abbotsford        68 Studley St      2    h        NaN     SS   Jellis   \n",
       "1   Abbotsford         85 Turner St      2    h  1480000.0      S   Biggin   \n",
       "2   Abbotsford      25 Bloomburg St      2    h  1035000.0      S   Biggin   \n",
       "3   Abbotsford   18/659 Victoria St      3    u        NaN     VB   Rounds   \n",
       "4   Abbotsford         5 Charles St      3    h  1465000.0     SP   Biggin   \n",
       "5   Abbotsford     40 Federation La      3    h   850000.0     PI   Biggin   \n",
       "6   Abbotsford          55a Park St      4    h  1600000.0     VB   Nelson   \n",
       "7   Abbotsford         16 Maugie St      4    h        NaN     SN   Nelson   \n",
       "8   Abbotsford         53 Turner St      2    h        NaN      S   Biggin   \n",
       "9   Abbotsford         99 Turner St      2    h        NaN      S  Collins   \n",
       "10  Abbotsford       129 Charles St      2    h   941000.0      S   Jellis   \n",
       "11  Abbotsford         124 Yarra St      3    h  1876000.0      S   Nelson   \n",
       "12  Abbotsford  121/56 Nicholson St      2    u        NaN     PI   Biggin   \n",
       "13  Abbotsford        17 Raphael St      4    h        NaN      W   Biggin   \n",
       "14  Abbotsford        98 Charles St      2    h  1636000.0      S   Nelson   \n",
       "15  Abbotsford     217 Langridge St      3    h  1000000.0      S   Jellis   \n",
       "16  Abbotsford      18a Mollison St      2    t   745000.0      S   Jellis   \n",
       "17  Abbotsford   6/241 Nicholson St      1    u   300000.0      S   Biggin   \n",
       "18  Abbotsford        10 Valiant St      2    h  1097000.0      S   Biggin   \n",
       "19  Abbotsford  403/609 Victoria St      2    u   542000.0      S   Dingle   \n",
       "\n",
       "         Date  Distance  Postcode  ...  Bathroom  Car  Landsize  BuildingArea  \\\n",
       "0   3/09/2016       2.5    3067.0  ...       1.0  1.0     126.0           NaN   \n",
       "1   3/12/2016       2.5    3067.0  ...       1.0  1.0     202.0           NaN   \n",
       "2   4/02/2016       2.5    3067.0  ...       1.0  0.0     156.0          79.0   \n",
       "3   4/02/2016       2.5    3067.0  ...       2.0  1.0       0.0           NaN   \n",
       "4   4/03/2017       2.5    3067.0  ...       2.0  0.0     134.0         150.0   \n",
       "5   4/03/2017       2.5    3067.0  ...       2.0  1.0      94.0           NaN   \n",
       "6   4/06/2016       2.5    3067.0  ...       1.0  2.0     120.0         142.0   \n",
       "7   6/08/2016       2.5    3067.0  ...       2.0  2.0     400.0         220.0   \n",
       "8   6/08/2016       2.5    3067.0  ...       1.0  2.0     201.0           NaN   \n",
       "9   6/08/2016       2.5    3067.0  ...       2.0  1.0     202.0           NaN   \n",
       "10  7/05/2016       2.5    3067.0  ...       1.0  0.0     181.0           NaN   \n",
       "11  7/05/2016       2.5    3067.0  ...       2.0  0.0     245.0         210.0   \n",
       "12  7/11/2016       2.5    3067.0  ...       2.0  1.0    4292.0          82.0   \n",
       "13  7/11/2016       2.5    3067.0  ...       2.0  0.0     230.0         147.0   \n",
       "14  8/10/2016       2.5    3067.0  ...       1.0  2.0     256.0         107.0   \n",
       "15  8/10/2016       2.5    3067.0  ...       NaN  NaN       NaN           NaN   \n",
       "16  8/10/2016       2.5    3067.0  ...       NaN  NaN       NaN           NaN   \n",
       "17  8/10/2016       2.5    3067.0  ...       1.0  1.0       0.0           NaN   \n",
       "18  8/10/2016       2.5    3067.0  ...       1.0  2.0     220.0          75.0   \n",
       "19  8/10/2016       2.5    3067.0  ...       NaN  NaN       NaN           NaN   \n",
       "\n",
       "    YearBuilt         CouncilArea Lattitude  Longtitude  \\\n",
       "0         NaN  Yarra City Council  -37.8014    144.9958   \n",
       "1         NaN  Yarra City Council  -37.7996    144.9984   \n",
       "2      1900.0  Yarra City Council  -37.8079    144.9934   \n",
       "3         NaN  Yarra City Council  -37.8114    145.0116   \n",
       "4      1900.0  Yarra City Council  -37.8093    144.9944   \n",
       "5         NaN  Yarra City Council  -37.7969    144.9969   \n",
       "6      2014.0  Yarra City Council  -37.8072    144.9941   \n",
       "7      2006.0  Yarra City Council  -37.7965    144.9965   \n",
       "8      1900.0  Yarra City Council  -37.7995    144.9974   \n",
       "9      1900.0  Yarra City Council  -37.7996    144.9989   \n",
       "10        NaN  Yarra City Council  -37.8041    144.9953   \n",
       "11     1910.0  Yarra City Council  -37.8024    144.9993   \n",
       "12     2009.0  Yarra City Council  -37.8078    144.9965   \n",
       "13     1860.0  Yarra City Council  -37.8066    144.9936   \n",
       "14     1890.0  Yarra City Council  -37.8060    144.9954   \n",
       "15        NaN  Yarra City Council       NaN         NaN   \n",
       "16        NaN  Yarra City Council       NaN         NaN   \n",
       "17        NaN  Yarra City Council  -37.8008    144.9973   \n",
       "18     1900.0  Yarra City Council  -37.8010    144.9989   \n",
       "19        NaN  Yarra City Council       NaN         NaN   \n",
       "\n",
       "               Regionname Propertycount  \n",
       "0   Northern Metropolitan        4019.0  \n",
       "1   Northern Metropolitan        4019.0  \n",
       "2   Northern Metropolitan        4019.0  \n",
       "3   Northern Metropolitan        4019.0  \n",
       "4   Northern Metropolitan        4019.0  \n",
       "5   Northern Metropolitan        4019.0  \n",
       "6   Northern Metropolitan        4019.0  \n",
       "7   Northern Metropolitan        4019.0  \n",
       "8   Northern Metropolitan        4019.0  \n",
       "9   Northern Metropolitan        4019.0  \n",
       "10  Northern Metropolitan        4019.0  \n",
       "11  Northern Metropolitan        4019.0  \n",
       "12  Northern Metropolitan        4019.0  \n",
       "13  Northern Metropolitan        4019.0  \n",
       "14  Northern Metropolitan        4019.0  \n",
       "15  Northern Metropolitan        4019.0  \n",
       "16  Northern Metropolitan        4019.0  \n",
       "17  Northern Metropolitan        4019.0  \n",
       "18  Northern Metropolitan        4019.0  \n",
       "19  Northern Metropolitan        4019.0  \n",
       "\n",
       "[20 rows x 21 columns]"
      ]
     },
     "execution_count": 3,
     "metadata": {},
     "output_type": "execute_result"
    }
   ],
   "source": [
    "df = pd.read_csv('/home/joseph/Desktop/ml lab/lab1/dataset/Melbourne_housing_FULL.csv')\n",
    "df.head(20)"
   ]
  },
  {
   "cell_type": "code",
   "execution_count": 12,
   "id": "d7696c8e",
   "metadata": {},
   "outputs": [
    {
     "ename": "IntCastingNaNError",
     "evalue": "Cannot convert non-finite values (NA or inf) to integer",
     "output_type": "error",
     "traceback": [
      "\u001b[0;31m---------------------------------------------------------------------------\u001b[0m",
      "\u001b[0;31mIntCastingNaNError\u001b[0m                        Traceback (most recent call last)",
      "Input \u001b[0;32mIn [12]\u001b[0m, in \u001b[0;36m<cell line: 1>\u001b[0;34m()\u001b[0m\n\u001b[0;32m----> 1\u001b[0m df[\u001b[38;5;124m'\u001b[39m\u001b[38;5;124mPrice\u001b[39m\u001b[38;5;124m'\u001b[39m] \u001b[38;5;241m=\u001b[39m \u001b[43mdf\u001b[49m\u001b[43m[\u001b[49m\u001b[38;5;124;43m'\u001b[39;49m\u001b[38;5;124;43mPrice\u001b[39;49m\u001b[38;5;124;43m'\u001b[39;49m\u001b[43m]\u001b[49m\u001b[38;5;241;43m.\u001b[39;49m\u001b[43mastype\u001b[49m\u001b[43m(\u001b[49m\u001b[38;5;28;43mint\u001b[39;49m\u001b[43m)\u001b[49m\n",
      "File \u001b[0;32m~/Desktop/ml lab/lab1/mlenv/lib/python3.10/site-packages/pandas/core/generic.py:5912\u001b[0m, in \u001b[0;36mNDFrame.astype\u001b[0;34m(self, dtype, copy, errors)\u001b[0m\n\u001b[1;32m   5905\u001b[0m     results \u001b[38;5;241m=\u001b[39m [\n\u001b[1;32m   5906\u001b[0m         \u001b[38;5;28mself\u001b[39m\u001b[38;5;241m.\u001b[39miloc[:, i]\u001b[38;5;241m.\u001b[39mastype(dtype, copy\u001b[38;5;241m=\u001b[39mcopy)\n\u001b[1;32m   5907\u001b[0m         \u001b[38;5;28;01mfor\u001b[39;00m i \u001b[38;5;129;01min\u001b[39;00m \u001b[38;5;28mrange\u001b[39m(\u001b[38;5;28mlen\u001b[39m(\u001b[38;5;28mself\u001b[39m\u001b[38;5;241m.\u001b[39mcolumns))\n\u001b[1;32m   5908\u001b[0m     ]\n\u001b[1;32m   5910\u001b[0m \u001b[38;5;28;01melse\u001b[39;00m:\n\u001b[1;32m   5911\u001b[0m     \u001b[38;5;66;03m# else, only a single dtype is given\u001b[39;00m\n\u001b[0;32m-> 5912\u001b[0m     new_data \u001b[38;5;241m=\u001b[39m \u001b[38;5;28;43mself\u001b[39;49m\u001b[38;5;241;43m.\u001b[39;49m\u001b[43m_mgr\u001b[49m\u001b[38;5;241;43m.\u001b[39;49m\u001b[43mastype\u001b[49m\u001b[43m(\u001b[49m\u001b[43mdtype\u001b[49m\u001b[38;5;241;43m=\u001b[39;49m\u001b[43mdtype\u001b[49m\u001b[43m,\u001b[49m\u001b[43m \u001b[49m\u001b[43mcopy\u001b[49m\u001b[38;5;241;43m=\u001b[39;49m\u001b[43mcopy\u001b[49m\u001b[43m,\u001b[49m\u001b[43m \u001b[49m\u001b[43merrors\u001b[49m\u001b[38;5;241;43m=\u001b[39;49m\u001b[43merrors\u001b[49m\u001b[43m)\u001b[49m\n\u001b[1;32m   5913\u001b[0m     \u001b[38;5;28;01mreturn\u001b[39;00m \u001b[38;5;28mself\u001b[39m\u001b[38;5;241m.\u001b[39m_constructor(new_data)\u001b[38;5;241m.\u001b[39m__finalize__(\u001b[38;5;28mself\u001b[39m, method\u001b[38;5;241m=\u001b[39m\u001b[38;5;124m\"\u001b[39m\u001b[38;5;124mastype\u001b[39m\u001b[38;5;124m\"\u001b[39m)\n\u001b[1;32m   5915\u001b[0m \u001b[38;5;66;03m# GH 33113: handle empty frame or series\u001b[39;00m\n",
      "File \u001b[0;32m~/Desktop/ml lab/lab1/mlenv/lib/python3.10/site-packages/pandas/core/internals/managers.py:419\u001b[0m, in \u001b[0;36mBaseBlockManager.astype\u001b[0;34m(self, dtype, copy, errors)\u001b[0m\n\u001b[1;32m    418\u001b[0m \u001b[38;5;28;01mdef\u001b[39;00m \u001b[38;5;21mastype\u001b[39m(\u001b[38;5;28mself\u001b[39m: T, dtype, copy: \u001b[38;5;28mbool\u001b[39m \u001b[38;5;241m=\u001b[39m \u001b[38;5;28;01mFalse\u001b[39;00m, errors: \u001b[38;5;28mstr\u001b[39m \u001b[38;5;241m=\u001b[39m \u001b[38;5;124m\"\u001b[39m\u001b[38;5;124mraise\u001b[39m\u001b[38;5;124m\"\u001b[39m) \u001b[38;5;241m-\u001b[39m\u001b[38;5;241m>\u001b[39m T:\n\u001b[0;32m--> 419\u001b[0m     \u001b[38;5;28;01mreturn\u001b[39;00m \u001b[38;5;28;43mself\u001b[39;49m\u001b[38;5;241;43m.\u001b[39;49m\u001b[43mapply\u001b[49m\u001b[43m(\u001b[49m\u001b[38;5;124;43m\"\u001b[39;49m\u001b[38;5;124;43mastype\u001b[39;49m\u001b[38;5;124;43m\"\u001b[39;49m\u001b[43m,\u001b[49m\u001b[43m \u001b[49m\u001b[43mdtype\u001b[49m\u001b[38;5;241;43m=\u001b[39;49m\u001b[43mdtype\u001b[49m\u001b[43m,\u001b[49m\u001b[43m \u001b[49m\u001b[43mcopy\u001b[49m\u001b[38;5;241;43m=\u001b[39;49m\u001b[43mcopy\u001b[49m\u001b[43m,\u001b[49m\u001b[43m \u001b[49m\u001b[43merrors\u001b[49m\u001b[38;5;241;43m=\u001b[39;49m\u001b[43merrors\u001b[49m\u001b[43m)\u001b[49m\n",
      "File \u001b[0;32m~/Desktop/ml lab/lab1/mlenv/lib/python3.10/site-packages/pandas/core/internals/managers.py:304\u001b[0m, in \u001b[0;36mBaseBlockManager.apply\u001b[0;34m(self, f, align_keys, ignore_failures, **kwargs)\u001b[0m\n\u001b[1;32m    302\u001b[0m         applied \u001b[38;5;241m=\u001b[39m b\u001b[38;5;241m.\u001b[39mapply(f, \u001b[38;5;241m*\u001b[39m\u001b[38;5;241m*\u001b[39mkwargs)\n\u001b[1;32m    303\u001b[0m     \u001b[38;5;28;01melse\u001b[39;00m:\n\u001b[0;32m--> 304\u001b[0m         applied \u001b[38;5;241m=\u001b[39m \u001b[38;5;28;43mgetattr\u001b[39;49m\u001b[43m(\u001b[49m\u001b[43mb\u001b[49m\u001b[43m,\u001b[49m\u001b[43m \u001b[49m\u001b[43mf\u001b[49m\u001b[43m)\u001b[49m\u001b[43m(\u001b[49m\u001b[38;5;241;43m*\u001b[39;49m\u001b[38;5;241;43m*\u001b[39;49m\u001b[43mkwargs\u001b[49m\u001b[43m)\u001b[49m\n\u001b[1;32m    305\u001b[0m \u001b[38;5;28;01mexcept\u001b[39;00m (\u001b[38;5;167;01mTypeError\u001b[39;00m, \u001b[38;5;167;01mNotImplementedError\u001b[39;00m):\n\u001b[1;32m    306\u001b[0m     \u001b[38;5;28;01mif\u001b[39;00m \u001b[38;5;129;01mnot\u001b[39;00m ignore_failures:\n",
      "File \u001b[0;32m~/Desktop/ml lab/lab1/mlenv/lib/python3.10/site-packages/pandas/core/internals/blocks.py:580\u001b[0m, in \u001b[0;36mBlock.astype\u001b[0;34m(self, dtype, copy, errors)\u001b[0m\n\u001b[1;32m    562\u001b[0m \u001b[38;5;124;03m\"\"\"\u001b[39;00m\n\u001b[1;32m    563\u001b[0m \u001b[38;5;124;03mCoerce to the new dtype.\u001b[39;00m\n\u001b[1;32m    564\u001b[0m \n\u001b[0;32m   (...)\u001b[0m\n\u001b[1;32m    576\u001b[0m \u001b[38;5;124;03mBlock\u001b[39;00m\n\u001b[1;32m    577\u001b[0m \u001b[38;5;124;03m\"\"\"\u001b[39;00m\n\u001b[1;32m    578\u001b[0m values \u001b[38;5;241m=\u001b[39m \u001b[38;5;28mself\u001b[39m\u001b[38;5;241m.\u001b[39mvalues\n\u001b[0;32m--> 580\u001b[0m new_values \u001b[38;5;241m=\u001b[39m \u001b[43mastype_array_safe\u001b[49m\u001b[43m(\u001b[49m\u001b[43mvalues\u001b[49m\u001b[43m,\u001b[49m\u001b[43m \u001b[49m\u001b[43mdtype\u001b[49m\u001b[43m,\u001b[49m\u001b[43m \u001b[49m\u001b[43mcopy\u001b[49m\u001b[38;5;241;43m=\u001b[39;49m\u001b[43mcopy\u001b[49m\u001b[43m,\u001b[49m\u001b[43m \u001b[49m\u001b[43merrors\u001b[49m\u001b[38;5;241;43m=\u001b[39;49m\u001b[43merrors\u001b[49m\u001b[43m)\u001b[49m\n\u001b[1;32m    582\u001b[0m new_values \u001b[38;5;241m=\u001b[39m maybe_coerce_values(new_values)\n\u001b[1;32m    583\u001b[0m newb \u001b[38;5;241m=\u001b[39m \u001b[38;5;28mself\u001b[39m\u001b[38;5;241m.\u001b[39mmake_block(new_values)\n",
      "File \u001b[0;32m~/Desktop/ml lab/lab1/mlenv/lib/python3.10/site-packages/pandas/core/dtypes/cast.py:1292\u001b[0m, in \u001b[0;36mastype_array_safe\u001b[0;34m(values, dtype, copy, errors)\u001b[0m\n\u001b[1;32m   1289\u001b[0m     dtype \u001b[38;5;241m=\u001b[39m dtype\u001b[38;5;241m.\u001b[39mnumpy_dtype\n\u001b[1;32m   1291\u001b[0m \u001b[38;5;28;01mtry\u001b[39;00m:\n\u001b[0;32m-> 1292\u001b[0m     new_values \u001b[38;5;241m=\u001b[39m \u001b[43mastype_array\u001b[49m\u001b[43m(\u001b[49m\u001b[43mvalues\u001b[49m\u001b[43m,\u001b[49m\u001b[43m \u001b[49m\u001b[43mdtype\u001b[49m\u001b[43m,\u001b[49m\u001b[43m \u001b[49m\u001b[43mcopy\u001b[49m\u001b[38;5;241;43m=\u001b[39;49m\u001b[43mcopy\u001b[49m\u001b[43m)\u001b[49m\n\u001b[1;32m   1293\u001b[0m \u001b[38;5;28;01mexcept\u001b[39;00m (\u001b[38;5;167;01mValueError\u001b[39;00m, \u001b[38;5;167;01mTypeError\u001b[39;00m):\n\u001b[1;32m   1294\u001b[0m     \u001b[38;5;66;03m# e.g. astype_nansafe can fail on object-dtype of strings\u001b[39;00m\n\u001b[1;32m   1295\u001b[0m     \u001b[38;5;66;03m#  trying to convert to float\u001b[39;00m\n\u001b[1;32m   1296\u001b[0m     \u001b[38;5;28;01mif\u001b[39;00m errors \u001b[38;5;241m==\u001b[39m \u001b[38;5;124m\"\u001b[39m\u001b[38;5;124mignore\u001b[39m\u001b[38;5;124m\"\u001b[39m:\n",
      "File \u001b[0;32m~/Desktop/ml lab/lab1/mlenv/lib/python3.10/site-packages/pandas/core/dtypes/cast.py:1237\u001b[0m, in \u001b[0;36mastype_array\u001b[0;34m(values, dtype, copy)\u001b[0m\n\u001b[1;32m   1234\u001b[0m     values \u001b[38;5;241m=\u001b[39m values\u001b[38;5;241m.\u001b[39mastype(dtype, copy\u001b[38;5;241m=\u001b[39mcopy)\n\u001b[1;32m   1236\u001b[0m \u001b[38;5;28;01melse\u001b[39;00m:\n\u001b[0;32m-> 1237\u001b[0m     values \u001b[38;5;241m=\u001b[39m \u001b[43mastype_nansafe\u001b[49m\u001b[43m(\u001b[49m\u001b[43mvalues\u001b[49m\u001b[43m,\u001b[49m\u001b[43m \u001b[49m\u001b[43mdtype\u001b[49m\u001b[43m,\u001b[49m\u001b[43m \u001b[49m\u001b[43mcopy\u001b[49m\u001b[38;5;241;43m=\u001b[39;49m\u001b[43mcopy\u001b[49m\u001b[43m)\u001b[49m\n\u001b[1;32m   1239\u001b[0m \u001b[38;5;66;03m# in pandas we don't store numpy str dtypes, so convert to object\u001b[39;00m\n\u001b[1;32m   1240\u001b[0m \u001b[38;5;28;01mif\u001b[39;00m \u001b[38;5;28misinstance\u001b[39m(dtype, np\u001b[38;5;241m.\u001b[39mdtype) \u001b[38;5;129;01mand\u001b[39;00m \u001b[38;5;28missubclass\u001b[39m(values\u001b[38;5;241m.\u001b[39mdtype\u001b[38;5;241m.\u001b[39mtype, \u001b[38;5;28mstr\u001b[39m):\n",
      "File \u001b[0;32m~/Desktop/ml lab/lab1/mlenv/lib/python3.10/site-packages/pandas/core/dtypes/cast.py:1148\u001b[0m, in \u001b[0;36mastype_nansafe\u001b[0;34m(arr, dtype, copy, skipna)\u001b[0m\n\u001b[1;32m   1145\u001b[0m     \u001b[38;5;28;01mraise\u001b[39;00m \u001b[38;5;167;01mTypeError\u001b[39;00m(\u001b[38;5;124mf\u001b[39m\u001b[38;5;124m\"\u001b[39m\u001b[38;5;124mcannot astype a timedelta from [\u001b[39m\u001b[38;5;132;01m{\u001b[39;00marr\u001b[38;5;241m.\u001b[39mdtype\u001b[38;5;132;01m}\u001b[39;00m\u001b[38;5;124m] to [\u001b[39m\u001b[38;5;132;01m{\u001b[39;00mdtype\u001b[38;5;132;01m}\u001b[39;00m\u001b[38;5;124m]\u001b[39m\u001b[38;5;124m\"\u001b[39m)\n\u001b[1;32m   1147\u001b[0m \u001b[38;5;28;01melif\u001b[39;00m np\u001b[38;5;241m.\u001b[39missubdtype(arr\u001b[38;5;241m.\u001b[39mdtype, np\u001b[38;5;241m.\u001b[39mfloating) \u001b[38;5;129;01mand\u001b[39;00m np\u001b[38;5;241m.\u001b[39missubdtype(dtype, np\u001b[38;5;241m.\u001b[39minteger):\n\u001b[0;32m-> 1148\u001b[0m     \u001b[38;5;28;01mreturn\u001b[39;00m \u001b[43mastype_float_to_int_nansafe\u001b[49m\u001b[43m(\u001b[49m\u001b[43marr\u001b[49m\u001b[43m,\u001b[49m\u001b[43m \u001b[49m\u001b[43mdtype\u001b[49m\u001b[43m,\u001b[49m\u001b[43m \u001b[49m\u001b[43mcopy\u001b[49m\u001b[43m)\u001b[49m\n\u001b[1;32m   1150\u001b[0m \u001b[38;5;28;01melif\u001b[39;00m is_object_dtype(arr\u001b[38;5;241m.\u001b[39mdtype):\n\u001b[1;32m   1151\u001b[0m \n\u001b[1;32m   1152\u001b[0m     \u001b[38;5;66;03m# work around NumPy brokenness, #1987\u001b[39;00m\n\u001b[1;32m   1153\u001b[0m     \u001b[38;5;28;01mif\u001b[39;00m np\u001b[38;5;241m.\u001b[39missubdtype(dtype\u001b[38;5;241m.\u001b[39mtype, np\u001b[38;5;241m.\u001b[39minteger):\n",
      "File \u001b[0;32m~/Desktop/ml lab/lab1/mlenv/lib/python3.10/site-packages/pandas/core/dtypes/cast.py:1193\u001b[0m, in \u001b[0;36mastype_float_to_int_nansafe\u001b[0;34m(values, dtype, copy)\u001b[0m\n\u001b[1;32m   1189\u001b[0m \u001b[38;5;124;03m\"\"\"\u001b[39;00m\n\u001b[1;32m   1190\u001b[0m \u001b[38;5;124;03mastype with a check preventing converting NaN to an meaningless integer value.\u001b[39;00m\n\u001b[1;32m   1191\u001b[0m \u001b[38;5;124;03m\"\"\"\u001b[39;00m\n\u001b[1;32m   1192\u001b[0m \u001b[38;5;28;01mif\u001b[39;00m \u001b[38;5;129;01mnot\u001b[39;00m np\u001b[38;5;241m.\u001b[39misfinite(values)\u001b[38;5;241m.\u001b[39mall():\n\u001b[0;32m-> 1193\u001b[0m     \u001b[38;5;28;01mraise\u001b[39;00m IntCastingNaNError(\n\u001b[1;32m   1194\u001b[0m         \u001b[38;5;124m\"\u001b[39m\u001b[38;5;124mCannot convert non-finite values (NA or inf) to integer\u001b[39m\u001b[38;5;124m\"\u001b[39m\n\u001b[1;32m   1195\u001b[0m     )\n\u001b[1;32m   1196\u001b[0m \u001b[38;5;28;01mreturn\u001b[39;00m values\u001b[38;5;241m.\u001b[39mastype(dtype, copy\u001b[38;5;241m=\u001b[39mcopy)\n",
      "\u001b[0;31mIntCastingNaNError\u001b[0m: Cannot convert non-finite values (NA or inf) to integer"
     ]
    }
   ],
   "source": [
    "df['Price'] = df['Price'].astype(int)"
   ]
  },
  {
   "cell_type": "markdown",
   "id": "3b18b2cb",
   "metadata": {},
   "source": [
    "**Finding Unique Values**"
   ]
  },
  {
   "cell_type": "code",
   "execution_count": 13,
   "id": "2d275884",
   "metadata": {},
   "outputs": [
    {
     "name": "stdout",
     "output_type": "stream",
     "text": [
      "Unique count across columns:\n",
      "Suburb             351\n",
      "Address          34009\n",
      "Rooms               12\n",
      "Type                 3\n",
      "Price             2871\n",
      "Method               9\n",
      "SellerG            388\n",
      "Date                78\n",
      "Distance           215\n",
      "Postcode           211\n",
      "Bedroom2            15\n",
      "Bathroom            11\n",
      "Car                 15\n",
      "Landsize          1684\n",
      "BuildingArea       740\n",
      "YearBuilt          160\n",
      "CouncilArea         33\n",
      "Lattitude        13402\n",
      "Longtitude       14524\n",
      "Regionname           8\n",
      "Propertycount      342\n",
      "dtype: int64\n"
     ]
    }
   ],
   "source": [
    "uniqueCounts = df.nunique();\n",
    "print(\"Unique count across columns:\")\n",
    "print(uniqueCounts);"
   ]
  },
  {
   "cell_type": "markdown",
   "id": "a508a5d4",
   "metadata": {},
   "source": [
    "**Finding total number of null values**"
   ]
  },
  {
   "cell_type": "code",
   "execution_count": 16,
   "id": "fd8c0de7",
   "metadata": {},
   "outputs": [
    {
     "data": {
      "text/plain": [
       "Suburb               0\n",
       "Address              0\n",
       "Rooms                0\n",
       "Type                 0\n",
       "Price             7610\n",
       "Method               0\n",
       "SellerG              0\n",
       "Date                 0\n",
       "Distance             1\n",
       "Postcode             1\n",
       "Bedroom2          8217\n",
       "Bathroom          8226\n",
       "Car               8728\n",
       "Landsize         11810\n",
       "BuildingArea     21115\n",
       "YearBuilt        19306\n",
       "CouncilArea          3\n",
       "Lattitude         7976\n",
       "Longtitude        7976\n",
       "Regionname           3\n",
       "Propertycount        3\n",
       "dtype: int64"
      ]
     },
     "execution_count": 16,
     "metadata": {},
     "output_type": "execute_result"
    }
   ],
   "source": [
    "df.isnull().sum()"
   ]
  },
  {
   "cell_type": "markdown",
   "id": "234b3c5a",
   "metadata": {},
   "source": [
    "**Handling missing values using mean**"
   ]
  },
  {
   "cell_type": "code",
   "execution_count": 17,
   "id": "f67e53e5",
   "metadata": {},
   "outputs": [],
   "source": [
    "df['Price'].fillna(value = df.Price.mean(), inplace = True)\n",
    "df['Distance'].fillna(value = df.Distance.mean(), inplace = True)\n",
    "df['Postcode'].fillna(value = df.Postcode.mean(), inplace = True)\n",
    "df['Bedroom2'].fillna(value = df.Bedroom2.mean(), inplace = True)\n",
    "df['Bathroom'].fillna(value = df.Bathroom.mean(), inplace = True)\n",
    "df['Car'].fillna(value = df.Car.mean(), inplace = True)\n",
    "df['Landsize'].fillna(value = df.Landsize.mean(), inplace = True)\n",
    "df['Bedroom2'].fillna(value = df.Bedroom2.mean(), inplace = True)\n",
    "df['YearBuilt'].fillna(value = df.YearBuilt.mean(), inplace = True)\n",
    "df['Lattitude'].fillna(value = df.Lattitude.mean(), inplace = True)\n",
    "df['Longtitude'].fillna(value = df.Longtitude.mean(), inplace = True)\n",
    "df['Propertycount'].fillna(value = df.Propertycount.mean(), inplace = True)\n",
    "df['BuildingArea'].fillna(value = df.BuildingArea.mean(), inplace = True)\n"
   ]
  },
  {
   "cell_type": "code",
   "execution_count": 18,
   "id": "4dac5e46",
   "metadata": {},
   "outputs": [
    {
     "data": {
      "text/plain": [
       "Suburb           0\n",
       "Address          0\n",
       "Rooms            0\n",
       "Type             0\n",
       "Price            0\n",
       "Method           0\n",
       "SellerG          0\n",
       "Date             0\n",
       "Distance         0\n",
       "Postcode         0\n",
       "Bedroom2         0\n",
       "Bathroom         0\n",
       "Car              0\n",
       "Landsize         0\n",
       "BuildingArea     0\n",
       "YearBuilt        0\n",
       "CouncilArea      3\n",
       "Lattitude        0\n",
       "Longtitude       0\n",
       "Regionname       3\n",
       "Propertycount    0\n",
       "dtype: int64"
      ]
     },
     "execution_count": 18,
     "metadata": {},
     "output_type": "execute_result"
    }
   ],
   "source": [
    "df.isnull().sum()"
   ]
  },
  {
   "cell_type": "code",
   "execution_count": 19,
   "id": "c54b5744",
   "metadata": {},
   "outputs": [],
   "source": [
    "df['Price'] = df['Price'].astype(int)"
   ]
  },
  {
   "cell_type": "code",
   "execution_count": 20,
   "id": "884e48aa",
   "metadata": {},
   "outputs": [
    {
     "data": {
      "text/plain": [
       "Suburb            object\n",
       "Address           object\n",
       "Rooms              int64\n",
       "Type              object\n",
       "Price              int64\n",
       "Method            object\n",
       "SellerG           object\n",
       "Date              object\n",
       "Distance         float64\n",
       "Postcode         float64\n",
       "Bedroom2         float64\n",
       "Bathroom         float64\n",
       "Car              float64\n",
       "Landsize         float64\n",
       "BuildingArea     float64\n",
       "YearBuilt        float64\n",
       "CouncilArea       object\n",
       "Lattitude        float64\n",
       "Longtitude       float64\n",
       "Regionname        object\n",
       "Propertycount    float64\n",
       "dtype: object"
      ]
     },
     "execution_count": 20,
     "metadata": {},
     "output_type": "execute_result"
    }
   ],
   "source": [
    "df.dtypes"
   ]
  },
  {
   "cell_type": "code",
   "execution_count": 7,
   "id": "459c9a7f",
   "metadata": {},
   "outputs": [],
   "source": [
    "df = df.fillna(0)"
   ]
  },
  {
   "cell_type": "code",
   "execution_count": 8,
   "id": "6232cbe3",
   "metadata": {
    "scrolled": true
   },
   "outputs": [
    {
     "data": {
      "text/html": [
       "<div>\n",
       "<style scoped>\n",
       "    .dataframe tbody tr th:only-of-type {\n",
       "        vertical-align: middle;\n",
       "    }\n",
       "\n",
       "    .dataframe tbody tr th {\n",
       "        vertical-align: top;\n",
       "    }\n",
       "\n",
       "    .dataframe thead th {\n",
       "        text-align: right;\n",
       "    }\n",
       "</style>\n",
       "<table border=\"1\" class=\"dataframe\">\n",
       "  <thead>\n",
       "    <tr style=\"text-align: right;\">\n",
       "      <th></th>\n",
       "      <th>Suburb</th>\n",
       "      <th>Address</th>\n",
       "      <th>Rooms</th>\n",
       "      <th>Type</th>\n",
       "      <th>Price</th>\n",
       "      <th>Method</th>\n",
       "      <th>SellerG</th>\n",
       "      <th>Date</th>\n",
       "      <th>Distance</th>\n",
       "      <th>Postcode</th>\n",
       "      <th>...</th>\n",
       "      <th>Bathroom</th>\n",
       "      <th>Car</th>\n",
       "      <th>Landsize</th>\n",
       "      <th>BuildingArea</th>\n",
       "      <th>YearBuilt</th>\n",
       "      <th>CouncilArea</th>\n",
       "      <th>Lattitude</th>\n",
       "      <th>Longtitude</th>\n",
       "      <th>Regionname</th>\n",
       "      <th>Propertycount</th>\n",
       "    </tr>\n",
       "  </thead>\n",
       "  <tbody>\n",
       "    <tr>\n",
       "      <th>0</th>\n",
       "      <td>Abbotsford</td>\n",
       "      <td>68 Studley St</td>\n",
       "      <td>2</td>\n",
       "      <td>h</td>\n",
       "      <td>1.050173e+06</td>\n",
       "      <td>SS</td>\n",
       "      <td>Jellis</td>\n",
       "      <td>3/09/2016</td>\n",
       "      <td>2.5</td>\n",
       "      <td>3067.0</td>\n",
       "      <td>...</td>\n",
       "      <td>1.000000</td>\n",
       "      <td>1.000000</td>\n",
       "      <td>126.000000</td>\n",
       "      <td>160.2564</td>\n",
       "      <td>1965.289885</td>\n",
       "      <td>Yarra City Council</td>\n",
       "      <td>-37.801400</td>\n",
       "      <td>144.995800</td>\n",
       "      <td>Northern Metropolitan</td>\n",
       "      <td>4019.0</td>\n",
       "    </tr>\n",
       "    <tr>\n",
       "      <th>1</th>\n",
       "      <td>Abbotsford</td>\n",
       "      <td>85 Turner St</td>\n",
       "      <td>2</td>\n",
       "      <td>h</td>\n",
       "      <td>1.480000e+06</td>\n",
       "      <td>S</td>\n",
       "      <td>Biggin</td>\n",
       "      <td>3/12/2016</td>\n",
       "      <td>2.5</td>\n",
       "      <td>3067.0</td>\n",
       "      <td>...</td>\n",
       "      <td>1.000000</td>\n",
       "      <td>1.000000</td>\n",
       "      <td>202.000000</td>\n",
       "      <td>160.2564</td>\n",
       "      <td>1965.289885</td>\n",
       "      <td>Yarra City Council</td>\n",
       "      <td>-37.799600</td>\n",
       "      <td>144.998400</td>\n",
       "      <td>Northern Metropolitan</td>\n",
       "      <td>4019.0</td>\n",
       "    </tr>\n",
       "    <tr>\n",
       "      <th>2</th>\n",
       "      <td>Abbotsford</td>\n",
       "      <td>25 Bloomburg St</td>\n",
       "      <td>2</td>\n",
       "      <td>h</td>\n",
       "      <td>1.035000e+06</td>\n",
       "      <td>S</td>\n",
       "      <td>Biggin</td>\n",
       "      <td>4/02/2016</td>\n",
       "      <td>2.5</td>\n",
       "      <td>3067.0</td>\n",
       "      <td>...</td>\n",
       "      <td>1.000000</td>\n",
       "      <td>0.000000</td>\n",
       "      <td>156.000000</td>\n",
       "      <td>79.0000</td>\n",
       "      <td>1900.000000</td>\n",
       "      <td>Yarra City Council</td>\n",
       "      <td>-37.807900</td>\n",
       "      <td>144.993400</td>\n",
       "      <td>Northern Metropolitan</td>\n",
       "      <td>4019.0</td>\n",
       "    </tr>\n",
       "    <tr>\n",
       "      <th>3</th>\n",
       "      <td>Abbotsford</td>\n",
       "      <td>18/659 Victoria St</td>\n",
       "      <td>3</td>\n",
       "      <td>u</td>\n",
       "      <td>1.050173e+06</td>\n",
       "      <td>VB</td>\n",
       "      <td>Rounds</td>\n",
       "      <td>4/02/2016</td>\n",
       "      <td>2.5</td>\n",
       "      <td>3067.0</td>\n",
       "      <td>...</td>\n",
       "      <td>2.000000</td>\n",
       "      <td>1.000000</td>\n",
       "      <td>0.000000</td>\n",
       "      <td>160.2564</td>\n",
       "      <td>1965.289885</td>\n",
       "      <td>Yarra City Council</td>\n",
       "      <td>-37.811400</td>\n",
       "      <td>145.011600</td>\n",
       "      <td>Northern Metropolitan</td>\n",
       "      <td>4019.0</td>\n",
       "    </tr>\n",
       "    <tr>\n",
       "      <th>4</th>\n",
       "      <td>Abbotsford</td>\n",
       "      <td>5 Charles St</td>\n",
       "      <td>3</td>\n",
       "      <td>h</td>\n",
       "      <td>1.465000e+06</td>\n",
       "      <td>SP</td>\n",
       "      <td>Biggin</td>\n",
       "      <td>4/03/2017</td>\n",
       "      <td>2.5</td>\n",
       "      <td>3067.0</td>\n",
       "      <td>...</td>\n",
       "      <td>2.000000</td>\n",
       "      <td>0.000000</td>\n",
       "      <td>134.000000</td>\n",
       "      <td>150.0000</td>\n",
       "      <td>1900.000000</td>\n",
       "      <td>Yarra City Council</td>\n",
       "      <td>-37.809300</td>\n",
       "      <td>144.994400</td>\n",
       "      <td>Northern Metropolitan</td>\n",
       "      <td>4019.0</td>\n",
       "    </tr>\n",
       "    <tr>\n",
       "      <th>...</th>\n",
       "      <td>...</td>\n",
       "      <td>...</td>\n",
       "      <td>...</td>\n",
       "      <td>...</td>\n",
       "      <td>...</td>\n",
       "      <td>...</td>\n",
       "      <td>...</td>\n",
       "      <td>...</td>\n",
       "      <td>...</td>\n",
       "      <td>...</td>\n",
       "      <td>...</td>\n",
       "      <td>...</td>\n",
       "      <td>...</td>\n",
       "      <td>...</td>\n",
       "      <td>...</td>\n",
       "      <td>...</td>\n",
       "      <td>...</td>\n",
       "      <td>...</td>\n",
       "      <td>...</td>\n",
       "      <td>...</td>\n",
       "      <td>...</td>\n",
       "    </tr>\n",
       "    <tr>\n",
       "      <th>34852</th>\n",
       "      <td>Yarraville</td>\n",
       "      <td>13 Burns St</td>\n",
       "      <td>4</td>\n",
       "      <td>h</td>\n",
       "      <td>1.480000e+06</td>\n",
       "      <td>PI</td>\n",
       "      <td>Jas</td>\n",
       "      <td>24/02/2018</td>\n",
       "      <td>6.3</td>\n",
       "      <td>3013.0</td>\n",
       "      <td>...</td>\n",
       "      <td>1.000000</td>\n",
       "      <td>3.000000</td>\n",
       "      <td>593.000000</td>\n",
       "      <td>160.2564</td>\n",
       "      <td>1965.289885</td>\n",
       "      <td>Maribyrnong City Council</td>\n",
       "      <td>-37.810530</td>\n",
       "      <td>144.884670</td>\n",
       "      <td>Western Metropolitan</td>\n",
       "      <td>6543.0</td>\n",
       "    </tr>\n",
       "    <tr>\n",
       "      <th>34853</th>\n",
       "      <td>Yarraville</td>\n",
       "      <td>29A Murray St</td>\n",
       "      <td>2</td>\n",
       "      <td>h</td>\n",
       "      <td>8.880000e+05</td>\n",
       "      <td>SP</td>\n",
       "      <td>Sweeney</td>\n",
       "      <td>24/02/2018</td>\n",
       "      <td>6.3</td>\n",
       "      <td>3013.0</td>\n",
       "      <td>...</td>\n",
       "      <td>2.000000</td>\n",
       "      <td>1.000000</td>\n",
       "      <td>98.000000</td>\n",
       "      <td>104.0000</td>\n",
       "      <td>2018.000000</td>\n",
       "      <td>Maribyrnong City Council</td>\n",
       "      <td>-37.815510</td>\n",
       "      <td>144.888260</td>\n",
       "      <td>Western Metropolitan</td>\n",
       "      <td>6543.0</td>\n",
       "    </tr>\n",
       "    <tr>\n",
       "      <th>34854</th>\n",
       "      <td>Yarraville</td>\n",
       "      <td>147A Severn St</td>\n",
       "      <td>2</td>\n",
       "      <td>t</td>\n",
       "      <td>7.050000e+05</td>\n",
       "      <td>S</td>\n",
       "      <td>Jas</td>\n",
       "      <td>24/02/2018</td>\n",
       "      <td>6.3</td>\n",
       "      <td>3013.0</td>\n",
       "      <td>...</td>\n",
       "      <td>1.000000</td>\n",
       "      <td>2.000000</td>\n",
       "      <td>220.000000</td>\n",
       "      <td>120.0000</td>\n",
       "      <td>2000.000000</td>\n",
       "      <td>Maribyrnong City Council</td>\n",
       "      <td>-37.822860</td>\n",
       "      <td>144.878560</td>\n",
       "      <td>Western Metropolitan</td>\n",
       "      <td>6543.0</td>\n",
       "    </tr>\n",
       "    <tr>\n",
       "      <th>34855</th>\n",
       "      <td>Yarraville</td>\n",
       "      <td>12/37 Stephen St</td>\n",
       "      <td>3</td>\n",
       "      <td>h</td>\n",
       "      <td>1.140000e+06</td>\n",
       "      <td>SP</td>\n",
       "      <td>hockingstuart</td>\n",
       "      <td>24/02/2018</td>\n",
       "      <td>6.3</td>\n",
       "      <td>3013.0</td>\n",
       "      <td>...</td>\n",
       "      <td>1.624798</td>\n",
       "      <td>1.728845</td>\n",
       "      <td>593.598993</td>\n",
       "      <td>160.2564</td>\n",
       "      <td>1965.289885</td>\n",
       "      <td>Maribyrnong City Council</td>\n",
       "      <td>-37.810634</td>\n",
       "      <td>145.001851</td>\n",
       "      <td>Western Metropolitan</td>\n",
       "      <td>6543.0</td>\n",
       "    </tr>\n",
       "    <tr>\n",
       "      <th>34856</th>\n",
       "      <td>Yarraville</td>\n",
       "      <td>3 Tarrengower St</td>\n",
       "      <td>2</td>\n",
       "      <td>h</td>\n",
       "      <td>1.020000e+06</td>\n",
       "      <td>PI</td>\n",
       "      <td>RW</td>\n",
       "      <td>24/02/2018</td>\n",
       "      <td>6.3</td>\n",
       "      <td>3013.0</td>\n",
       "      <td>...</td>\n",
       "      <td>1.000000</td>\n",
       "      <td>0.000000</td>\n",
       "      <td>250.000000</td>\n",
       "      <td>103.0000</td>\n",
       "      <td>1930.000000</td>\n",
       "      <td>Maribyrnong City Council</td>\n",
       "      <td>-37.818100</td>\n",
       "      <td>144.893510</td>\n",
       "      <td>Western Metropolitan</td>\n",
       "      <td>6543.0</td>\n",
       "    </tr>\n",
       "  </tbody>\n",
       "</table>\n",
       "<p>34857 rows × 21 columns</p>\n",
       "</div>"
      ],
      "text/plain": [
       "           Suburb             Address  Rooms Type         Price Method  \\\n",
       "0      Abbotsford       68 Studley St      2    h  1.050173e+06     SS   \n",
       "1      Abbotsford        85 Turner St      2    h  1.480000e+06      S   \n",
       "2      Abbotsford     25 Bloomburg St      2    h  1.035000e+06      S   \n",
       "3      Abbotsford  18/659 Victoria St      3    u  1.050173e+06     VB   \n",
       "4      Abbotsford        5 Charles St      3    h  1.465000e+06     SP   \n",
       "...           ...                 ...    ...  ...           ...    ...   \n",
       "34852  Yarraville         13 Burns St      4    h  1.480000e+06     PI   \n",
       "34853  Yarraville       29A Murray St      2    h  8.880000e+05     SP   \n",
       "34854  Yarraville      147A Severn St      2    t  7.050000e+05      S   \n",
       "34855  Yarraville    12/37 Stephen St      3    h  1.140000e+06     SP   \n",
       "34856  Yarraville    3 Tarrengower St      2    h  1.020000e+06     PI   \n",
       "\n",
       "             SellerG        Date  Distance  Postcode  ...  Bathroom       Car  \\\n",
       "0             Jellis   3/09/2016       2.5    3067.0  ...  1.000000  1.000000   \n",
       "1             Biggin   3/12/2016       2.5    3067.0  ...  1.000000  1.000000   \n",
       "2             Biggin   4/02/2016       2.5    3067.0  ...  1.000000  0.000000   \n",
       "3             Rounds   4/02/2016       2.5    3067.0  ...  2.000000  1.000000   \n",
       "4             Biggin   4/03/2017       2.5    3067.0  ...  2.000000  0.000000   \n",
       "...              ...         ...       ...       ...  ...       ...       ...   \n",
       "34852            Jas  24/02/2018       6.3    3013.0  ...  1.000000  3.000000   \n",
       "34853        Sweeney  24/02/2018       6.3    3013.0  ...  2.000000  1.000000   \n",
       "34854            Jas  24/02/2018       6.3    3013.0  ...  1.000000  2.000000   \n",
       "34855  hockingstuart  24/02/2018       6.3    3013.0  ...  1.624798  1.728845   \n",
       "34856             RW  24/02/2018       6.3    3013.0  ...  1.000000  0.000000   \n",
       "\n",
       "         Landsize  BuildingArea    YearBuilt               CouncilArea  \\\n",
       "0      126.000000      160.2564  1965.289885        Yarra City Council   \n",
       "1      202.000000      160.2564  1965.289885        Yarra City Council   \n",
       "2      156.000000       79.0000  1900.000000        Yarra City Council   \n",
       "3        0.000000      160.2564  1965.289885        Yarra City Council   \n",
       "4      134.000000      150.0000  1900.000000        Yarra City Council   \n",
       "...           ...           ...          ...                       ...   \n",
       "34852  593.000000      160.2564  1965.289885  Maribyrnong City Council   \n",
       "34853   98.000000      104.0000  2018.000000  Maribyrnong City Council   \n",
       "34854  220.000000      120.0000  2000.000000  Maribyrnong City Council   \n",
       "34855  593.598993      160.2564  1965.289885  Maribyrnong City Council   \n",
       "34856  250.000000      103.0000  1930.000000  Maribyrnong City Council   \n",
       "\n",
       "       Lattitude  Longtitude             Regionname Propertycount  \n",
       "0     -37.801400  144.995800  Northern Metropolitan        4019.0  \n",
       "1     -37.799600  144.998400  Northern Metropolitan        4019.0  \n",
       "2     -37.807900  144.993400  Northern Metropolitan        4019.0  \n",
       "3     -37.811400  145.011600  Northern Metropolitan        4019.0  \n",
       "4     -37.809300  144.994400  Northern Metropolitan        4019.0  \n",
       "...          ...         ...                    ...           ...  \n",
       "34852 -37.810530  144.884670   Western Metropolitan        6543.0  \n",
       "34853 -37.815510  144.888260   Western Metropolitan        6543.0  \n",
       "34854 -37.822860  144.878560   Western Metropolitan        6543.0  \n",
       "34855 -37.810634  145.001851   Western Metropolitan        6543.0  \n",
       "34856 -37.818100  144.893510   Western Metropolitan        6543.0  \n",
       "\n",
       "[34857 rows x 21 columns]"
      ]
     },
     "execution_count": 8,
     "metadata": {},
     "output_type": "execute_result"
    }
   ],
   "source": [
    "df"
   ]
  },
  {
   "cell_type": "markdown",
   "id": "8cd0ce39",
   "metadata": {},
   "source": [
    "**Price before Scaling - Right skewed**"
   ]
  },
  {
   "cell_type": "code",
   "execution_count": 9,
   "id": "a099bdcc",
   "metadata": {},
   "outputs": [
    {
     "name": "stderr",
     "output_type": "stream",
     "text": [
      "/home/joseph/Desktop/ml lab/lab1/mlenv/lib/python3.10/site-packages/seaborn/distributions.py:2619: FutureWarning: `distplot` is a deprecated function and will be removed in a future version. Please adapt your code to use either `displot` (a figure-level function with similar flexibility) or `histplot` (an axes-level function for histograms).\n",
      "  warnings.warn(msg, FutureWarning)\n"
     ]
    },
    {
     "data": {
      "image/png": "[encoded data removed]",
      "text/plain": [
       "<Figure size 432x288 with 1 Axes>"
      ]
     },
     "metadata": {
      "needs_background": "light"
     },
     "output_type": "display_data"
    }
   ],
   "source": [
    "import seaborn as sb\n",
    "from matplotlib import pyplot as plt\n",
    "sb.distplot(df['Price'],kde = False)\n",
    "plt.show()"
   ]
  },
  {
   "cell_type": "markdown",
   "id": "4e7958f2",
   "metadata": {},
   "source": [
    "**Distance before Scaling - Right skewed**"
   ]
  },
  {
   "cell_type": "code",
   "execution_count": 10,
   "id": "b2a340bb",
   "metadata": {},
   "outputs": [
    {
     "data": {
      "image/png": "[encoded data removed]",
      "text/plain": [
       "<Figure size 432x288 with 1 Axes>"
      ]
     },
     "metadata": {
      "needs_background": "light"
     },
     "output_type": "display_data"
    }
   ],
   "source": [
    "import seaborn as sb\n",
    "from matplotlib import pyplot as plt\n",
    "sb.distplot(df['Distance'],kde = False)\n",
    "plt.show()"
   ]
  },
  {
   "cell_type": "markdown",
   "id": "9f657706",
   "metadata": {},
   "source": [
    "**Standard Scaler**"
   ]
  },
  {
   "cell_type": "code",
   "execution_count": 11,
   "id": "136776d7",
   "metadata": {},
   "outputs": [],
   "source": [
    "from sklearn.preprocessing import StandardScaler\n",
    "scaler = StandardScaler()"
   ]
  },
  {
   "cell_type": "code",
   "execution_count": 12,
   "id": "db035995",
   "metadata": {},
   "outputs": [],
   "source": [
    "df[['Price','Distance','Landsize','Propertycount']] = scaler.fit_transform(df[['Price','Distance','Landsize','Propertycount']])"
   ]
  },
  {
   "cell_type": "markdown",
   "id": "2718a2ae",
   "metadata": {},
   "source": [
    "**After Scaling**"
   ]
  },
  {
   "cell_type": "code",
   "execution_count": 13,
   "id": "ad38b547",
   "metadata": {},
   "outputs": [
    {
     "name": "stderr",
     "output_type": "stream",
     "text": [
      "/home/joseph/Desktop/ml lab/lab1/mlenv/lib/python3.10/site-packages/seaborn/distributions.py:2619: FutureWarning: `distplot` is a deprecated function and will be removed in a future version. Please adapt your code to use either `displot` (a figure-level function with similar flexibility) or `histplot` (an axes-level function for histograms).\n",
      "  warnings.warn(msg, FutureWarning)\n"
     ]
    },
    {
     "data": {
      "image/png": "[encoded data removed]",
      "text/plain": [
       "<Figure size 432x288 with 1 Axes>"
      ]
     },
     "metadata": {
      "needs_background": "light"
     },
     "output_type": "display_data"
    }
   ],
   "source": [
    "import seaborn as sb\n",
    "from matplotlib import pyplot as plt\n",
    "sb.distplot(df['Price'],kde = False)\n",
    "plt.show()"
   ]
  },
  {
   "cell_type": "code",
   "execution_count": 14,
   "id": "7f23e26c",
   "metadata": {},
   "outputs": [
    {
     "data": {
      "image/png": "[encoded data removed]",
      "text/plain": [
       "<Figure size 432x288 with 1 Axes>"
      ]
     },
     "metadata": {
      "needs_background": "light"
     },
     "output_type": "display_data"
    }
   ],
   "source": [
    "import seaborn as sb\n",
    "from matplotlib import pyplot as plt\n",
    "sb.distplot(df['Distance'],kde = False)\n",
    "plt.show()"
   ]
  },
  {
   "cell_type": "code",
   "execution_count": 15,
   "id": "95c13a81",
   "metadata": {},
   "outputs": [
    {
     "data": {
      "text/html": [
       "<div>\n",
       "<style scoped>\n",
       "    .dataframe tbody tr th:only-of-type {\n",
       "        vertical-align: middle;\n",
       "    }\n",
       "\n",
       "    .dataframe tbody tr th {\n",
       "        vertical-align: top;\n",
       "    }\n",
       "\n",
       "    .dataframe thead th {\n",
       "        text-align: right;\n",
       "    }\n",
       "</style>\n",
       "<table border=\"1\" class=\"dataframe\">\n",
       "  <thead>\n",
       "    <tr style=\"text-align: right;\">\n",
       "      <th></th>\n",
       "      <th>Suburb</th>\n",
       "      <th>Address</th>\n",
       "      <th>Rooms</th>\n",
       "      <th>Type</th>\n",
       "      <th>Price</th>\n",
       "      <th>Method</th>\n",
       "      <th>SellerG</th>\n",
       "      <th>Date</th>\n",
       "      <th>Distance</th>\n",
       "      <th>Postcode</th>\n",
       "      <th>...</th>\n",
       "      <th>Bathroom</th>\n",
       "      <th>Car</th>\n",
       "      <th>Landsize</th>\n",
       "      <th>BuildingArea</th>\n",
       "      <th>YearBuilt</th>\n",
       "      <th>CouncilArea</th>\n",
       "      <th>Lattitude</th>\n",
       "      <th>Longtitude</th>\n",
       "      <th>Regionname</th>\n",
       "      <th>Propertycount</th>\n",
       "    </tr>\n",
       "  </thead>\n",
       "  <tbody>\n",
       "    <tr>\n",
       "      <th>0</th>\n",
       "      <td>Abbotsford</td>\n",
       "      <td>68 Studley St</td>\n",
       "      <td>2</td>\n",
       "      <td>h</td>\n",
       "      <td>0.000000</td>\n",
       "      <td>SS</td>\n",
       "      <td>Jellis</td>\n",
       "      <td>3/09/2016</td>\n",
       "      <td>-1.279322</td>\n",
       "      <td>3067.0</td>\n",
       "      <td>...</td>\n",
       "      <td>1.000000</td>\n",
       "      <td>1.000000</td>\n",
       "      <td>-0.169196</td>\n",
       "      <td>160.2564</td>\n",
       "      <td>1965.289885</td>\n",
       "      <td>Yarra City Council</td>\n",
       "      <td>-37.801400</td>\n",
       "      <td>144.995800</td>\n",
       "      <td>Northern Metropolitan</td>\n",
       "      <td>-0.802624</td>\n",
       "    </tr>\n",
       "    <tr>\n",
       "      <th>1</th>\n",
       "      <td>Abbotsford</td>\n",
       "      <td>85 Turner St</td>\n",
       "      <td>2</td>\n",
       "      <td>h</td>\n",
       "      <td>0.757901</td>\n",
       "      <td>S</td>\n",
       "      <td>Biggin</td>\n",
       "      <td>3/12/2016</td>\n",
       "      <td>-1.279322</td>\n",
       "      <td>3067.0</td>\n",
       "      <td>...</td>\n",
       "      <td>1.000000</td>\n",
       "      <td>1.000000</td>\n",
       "      <td>-0.141696</td>\n",
       "      <td>160.2564</td>\n",
       "      <td>1965.289885</td>\n",
       "      <td>Yarra City Council</td>\n",
       "      <td>-37.799600</td>\n",
       "      <td>144.998400</td>\n",
       "      <td>Northern Metropolitan</td>\n",
       "      <td>-0.802624</td>\n",
       "    </tr>\n",
       "    <tr>\n",
       "      <th>2</th>\n",
       "      <td>Abbotsford</td>\n",
       "      <td>25 Bloomburg St</td>\n",
       "      <td>2</td>\n",
       "      <td>h</td>\n",
       "      <td>-0.026755</td>\n",
       "      <td>S</td>\n",
       "      <td>Biggin</td>\n",
       "      <td>4/02/2016</td>\n",
       "      <td>-1.279322</td>\n",
       "      <td>3067.0</td>\n",
       "      <td>...</td>\n",
       "      <td>1.000000</td>\n",
       "      <td>0.000000</td>\n",
       "      <td>-0.158341</td>\n",
       "      <td>79.0000</td>\n",
       "      <td>1900.000000</td>\n",
       "      <td>Yarra City Council</td>\n",
       "      <td>-37.807900</td>\n",
       "      <td>144.993400</td>\n",
       "      <td>Northern Metropolitan</td>\n",
       "      <td>-0.802624</td>\n",
       "    </tr>\n",
       "    <tr>\n",
       "      <th>3</th>\n",
       "      <td>Abbotsford</td>\n",
       "      <td>18/659 Victoria St</td>\n",
       "      <td>3</td>\n",
       "      <td>u</td>\n",
       "      <td>0.000000</td>\n",
       "      <td>VB</td>\n",
       "      <td>Rounds</td>\n",
       "      <td>4/02/2016</td>\n",
       "      <td>-1.279322</td>\n",
       "      <td>3067.0</td>\n",
       "      <td>...</td>\n",
       "      <td>2.000000</td>\n",
       "      <td>1.000000</td>\n",
       "      <td>-0.214788</td>\n",
       "      <td>160.2564</td>\n",
       "      <td>1965.289885</td>\n",
       "      <td>Yarra City Council</td>\n",
       "      <td>-37.811400</td>\n",
       "      <td>145.011600</td>\n",
       "      <td>Northern Metropolitan</td>\n",
       "      <td>-0.802624</td>\n",
       "    </tr>\n",
       "    <tr>\n",
       "      <th>4</th>\n",
       "      <td>Abbotsford</td>\n",
       "      <td>5 Charles St</td>\n",
       "      <td>3</td>\n",
       "      <td>h</td>\n",
       "      <td>0.731452</td>\n",
       "      <td>SP</td>\n",
       "      <td>Biggin</td>\n",
       "      <td>4/03/2017</td>\n",
       "      <td>-1.279322</td>\n",
       "      <td>3067.0</td>\n",
       "      <td>...</td>\n",
       "      <td>2.000000</td>\n",
       "      <td>0.000000</td>\n",
       "      <td>-0.166301</td>\n",
       "      <td>150.0000</td>\n",
       "      <td>1900.000000</td>\n",
       "      <td>Yarra City Council</td>\n",
       "      <td>-37.809300</td>\n",
       "      <td>144.994400</td>\n",
       "      <td>Northern Metropolitan</td>\n",
       "      <td>-0.802624</td>\n",
       "    </tr>\n",
       "    <tr>\n",
       "      <th>...</th>\n",
       "      <td>...</td>\n",
       "      <td>...</td>\n",
       "      <td>...</td>\n",
       "      <td>...</td>\n",
       "      <td>...</td>\n",
       "      <td>...</td>\n",
       "      <td>...</td>\n",
       "      <td>...</td>\n",
       "      <td>...</td>\n",
       "      <td>...</td>\n",
       "      <td>...</td>\n",
       "      <td>...</td>\n",
       "      <td>...</td>\n",
       "      <td>...</td>\n",
       "      <td>...</td>\n",
       "      <td>...</td>\n",
       "      <td>...</td>\n",
       "      <td>...</td>\n",
       "      <td>...</td>\n",
       "      <td>...</td>\n",
       "      <td>...</td>\n",
       "    </tr>\n",
       "    <tr>\n",
       "      <th>34852</th>\n",
       "      <td>Yarraville</td>\n",
       "      <td>13 Burns St</td>\n",
       "      <td>4</td>\n",
       "      <td>h</td>\n",
       "      <td>0.757901</td>\n",
       "      <td>PI</td>\n",
       "      <td>Jas</td>\n",
       "      <td>24/02/2018</td>\n",
       "      <td>-0.719568</td>\n",
       "      <td>3013.0</td>\n",
       "      <td>...</td>\n",
       "      <td>1.000000</td>\n",
       "      <td>3.000000</td>\n",
       "      <td>-0.000217</td>\n",
       "      <td>160.2564</td>\n",
       "      <td>1965.289885</td>\n",
       "      <td>Maribyrnong City Council</td>\n",
       "      <td>-37.810530</td>\n",
       "      <td>144.884670</td>\n",
       "      <td>Western Metropolitan</td>\n",
       "      <td>-0.232594</td>\n",
       "    </tr>\n",
       "    <tr>\n",
       "      <th>34853</th>\n",
       "      <td>Yarraville</td>\n",
       "      <td>29A Murray St</td>\n",
       "      <td>2</td>\n",
       "      <td>h</td>\n",
       "      <td>-0.285956</td>\n",
       "      <td>SP</td>\n",
       "      <td>Sweeney</td>\n",
       "      <td>24/02/2018</td>\n",
       "      <td>-0.719568</td>\n",
       "      <td>3013.0</td>\n",
       "      <td>...</td>\n",
       "      <td>2.000000</td>\n",
       "      <td>1.000000</td>\n",
       "      <td>-0.179327</td>\n",
       "      <td>104.0000</td>\n",
       "      <td>2018.000000</td>\n",
       "      <td>Maribyrnong City Council</td>\n",
       "      <td>-37.815510</td>\n",
       "      <td>144.888260</td>\n",
       "      <td>Western Metropolitan</td>\n",
       "      <td>-0.232594</td>\n",
       "    </tr>\n",
       "    <tr>\n",
       "      <th>34854</th>\n",
       "      <td>Yarraville</td>\n",
       "      <td>147A Severn St</td>\n",
       "      <td>2</td>\n",
       "      <td>t</td>\n",
       "      <td>-0.608634</td>\n",
       "      <td>S</td>\n",
       "      <td>Jas</td>\n",
       "      <td>24/02/2018</td>\n",
       "      <td>-0.719568</td>\n",
       "      <td>3013.0</td>\n",
       "      <td>...</td>\n",
       "      <td>1.000000</td>\n",
       "      <td>2.000000</td>\n",
       "      <td>-0.135183</td>\n",
       "      <td>120.0000</td>\n",
       "      <td>2000.000000</td>\n",
       "      <td>Maribyrnong City Council</td>\n",
       "      <td>-37.822860</td>\n",
       "      <td>144.878560</td>\n",
       "      <td>Western Metropolitan</td>\n",
       "      <td>-0.232594</td>\n",
       "    </tr>\n",
       "    <tr>\n",
       "      <th>34855</th>\n",
       "      <td>Yarraville</td>\n",
       "      <td>12/37 Stephen St</td>\n",
       "      <td>3</td>\n",
       "      <td>h</td>\n",
       "      <td>0.158389</td>\n",
       "      <td>SP</td>\n",
       "      <td>hockingstuart</td>\n",
       "      <td>24/02/2018</td>\n",
       "      <td>-0.719568</td>\n",
       "      <td>3013.0</td>\n",
       "      <td>...</td>\n",
       "      <td>1.624798</td>\n",
       "      <td>1.728845</td>\n",
       "      <td>0.000000</td>\n",
       "      <td>160.2564</td>\n",
       "      <td>1965.289885</td>\n",
       "      <td>Maribyrnong City Council</td>\n",
       "      <td>-37.810634</td>\n",
       "      <td>145.001851</td>\n",
       "      <td>Western Metropolitan</td>\n",
       "      <td>-0.232594</td>\n",
       "    </tr>\n",
       "    <tr>\n",
       "      <th>34856</th>\n",
       "      <td>Yarraville</td>\n",
       "      <td>3 Tarrengower St</td>\n",
       "      <td>2</td>\n",
       "      <td>h</td>\n",
       "      <td>-0.053204</td>\n",
       "      <td>PI</td>\n",
       "      <td>RW</td>\n",
       "      <td>24/02/2018</td>\n",
       "      <td>-0.719568</td>\n",
       "      <td>3013.0</td>\n",
       "      <td>...</td>\n",
       "      <td>1.000000</td>\n",
       "      <td>0.000000</td>\n",
       "      <td>-0.124328</td>\n",
       "      <td>103.0000</td>\n",
       "      <td>1930.000000</td>\n",
       "      <td>Maribyrnong City Council</td>\n",
       "      <td>-37.818100</td>\n",
       "      <td>144.893510</td>\n",
       "      <td>Western Metropolitan</td>\n",
       "      <td>-0.232594</td>\n",
       "    </tr>\n",
       "  </tbody>\n",
       "</table>\n",
       "<p>34857 rows × 21 columns</p>\n",
       "</div>"
      ],
      "text/plain": [
       "           Suburb             Address  Rooms Type     Price Method  \\\n",
       "0      Abbotsford       68 Studley St      2    h  0.000000     SS   \n",
       "1      Abbotsford        85 Turner St      2    h  0.757901      S   \n",
       "2      Abbotsford     25 Bloomburg St      2    h -0.026755      S   \n",
       "3      Abbotsford  18/659 Victoria St      3    u  0.000000     VB   \n",
       "4      Abbotsford        5 Charles St      3    h  0.731452     SP   \n",
       "...           ...                 ...    ...  ...       ...    ...   \n",
       "34852  Yarraville         13 Burns St      4    h  0.757901     PI   \n",
       "34853  Yarraville       29A Murray St      2    h -0.285956     SP   \n",
       "34854  Yarraville      147A Severn St      2    t -0.608634      S   \n",
       "34855  Yarraville    12/37 Stephen St      3    h  0.158389     SP   \n",
       "34856  Yarraville    3 Tarrengower St      2    h -0.053204     PI   \n",
       "\n",
       "             SellerG        Date  Distance  Postcode  ...  Bathroom       Car  \\\n",
       "0             Jellis   3/09/2016 -1.279322    3067.0  ...  1.000000  1.000000   \n",
       "1             Biggin   3/12/2016 -1.279322    3067.0  ...  1.000000  1.000000   \n",
       "2             Biggin   4/02/2016 -1.279322    3067.0  ...  1.000000  0.000000   \n",
       "3             Rounds   4/02/2016 -1.279322    3067.0  ...  2.000000  1.000000   \n",
       "4             Biggin   4/03/2017 -1.279322    3067.0  ...  2.000000  0.000000   \n",
       "...              ...         ...       ...       ...  ...       ...       ...   \n",
       "34852            Jas  24/02/2018 -0.719568    3013.0  ...  1.000000  3.000000   \n",
       "34853        Sweeney  24/02/2018 -0.719568    3013.0  ...  2.000000  1.000000   \n",
       "34854            Jas  24/02/2018 -0.719568    3013.0  ...  1.000000  2.000000   \n",
       "34855  hockingstuart  24/02/2018 -0.719568    3013.0  ...  1.624798  1.728845   \n",
       "34856             RW  24/02/2018 -0.719568    3013.0  ...  1.000000  0.000000   \n",
       "\n",
       "       Landsize  BuildingArea    YearBuilt               CouncilArea  \\\n",
       "0     -0.169196      160.2564  1965.289885        Yarra City Council   \n",
       "1     -0.141696      160.2564  1965.289885        Yarra City Council   \n",
       "2     -0.158341       79.0000  1900.000000        Yarra City Council   \n",
       "3     -0.214788      160.2564  1965.289885        Yarra City Council   \n",
       "4     -0.166301      150.0000  1900.000000        Yarra City Council   \n",
       "...         ...           ...          ...                       ...   \n",
       "34852 -0.000217      160.2564  1965.289885  Maribyrnong City Council   \n",
       "34853 -0.179327      104.0000  2018.000000  Maribyrnong City Council   \n",
       "34854 -0.135183      120.0000  2000.000000  Maribyrnong City Council   \n",
       "34855  0.000000      160.2564  1965.289885  Maribyrnong City Council   \n",
       "34856 -0.124328      103.0000  1930.000000  Maribyrnong City Council   \n",
       "\n",
       "       Lattitude  Longtitude             Regionname Propertycount  \n",
       "0     -37.801400  144.995800  Northern Metropolitan     -0.802624  \n",
       "1     -37.799600  144.998400  Northern Metropolitan     -0.802624  \n",
       "2     -37.807900  144.993400  Northern Metropolitan     -0.802624  \n",
       "3     -37.811400  145.011600  Northern Metropolitan     -0.802624  \n",
       "4     -37.809300  144.994400  Northern Metropolitan     -0.802624  \n",
       "...          ...         ...                    ...           ...  \n",
       "34852 -37.810530  144.884670   Western Metropolitan     -0.232594  \n",
       "34853 -37.815510  144.888260   Western Metropolitan     -0.232594  \n",
       "34854 -37.822860  144.878560   Western Metropolitan     -0.232594  \n",
       "34855 -37.810634  145.001851   Western Metropolitan     -0.232594  \n",
       "34856 -37.818100  144.893510   Western Metropolitan     -0.232594  \n",
       "\n",
       "[34857 rows x 21 columns]"
      ]
     },
     "execution_count": 15,
     "metadata": {},
     "output_type": "execute_result"
    }
   ],
   "source": [
    "df"
   ]
  },
  {
   "cell_type": "markdown",
   "id": "b27bd66f",
   "metadata": {},
   "source": [
    "# KNN"
   ]
  },
  {
   "cell_type": "code",
   "execution_count": 82,
   "id": "06f4b6dd",
   "metadata": {},
   "outputs": [],
   "source": [
    "from sklearn.model_selection import train_test_split\n",
    "from sklearn.neighbors import KNeighborsClassifier\n",
    "import matplotlib.pyplot as plt \n"
   ]
  },
  {
   "cell_type": "code",
   "execution_count": 83,
   "id": "c4d4815c",
   "metadata": {},
   "outputs": [],
   "source": [
    "from sklearn import preprocessing\n",
    "\n",
    "label_encoder = preprocessing.LabelEncoder()\n",
    "df['Type']= label_encoder.fit_transform(df['Type'])\n"
   ]
  },
  {
   "cell_type": "code",
   "execution_count": 84,
   "id": "185fe916",
   "metadata": {},
   "outputs": [
    {
     "data": {
      "text/html": [
       "<div>\n",
       "<style scoped>\n",
       "    .dataframe tbody tr th:only-of-type {\n",
       "        vertical-align: middle;\n",
       "    }\n",
       "\n",
       "    .dataframe tbody tr th {\n",
       "        vertical-align: top;\n",
       "    }\n",
       "\n",
       "    .dataframe thead th {\n",
       "        text-align: right;\n",
       "    }\n",
       "</style>\n",
       "<table border=\"1\" class=\"dataframe\">\n",
       "  <thead>\n",
       "    <tr style=\"text-align: right;\">\n",
       "      <th></th>\n",
       "      <th>Suburb</th>\n",
       "      <th>Address</th>\n",
       "      <th>Rooms</th>\n",
       "      <th>Type</th>\n",
       "      <th>Price</th>\n",
       "      <th>Method</th>\n",
       "      <th>SellerG</th>\n",
       "      <th>Date</th>\n",
       "      <th>Distance</th>\n",
       "      <th>Postcode</th>\n",
       "      <th>...</th>\n",
       "      <th>Bathroom</th>\n",
       "      <th>Car</th>\n",
       "      <th>Landsize</th>\n",
       "      <th>BuildingArea</th>\n",
       "      <th>YearBuilt</th>\n",
       "      <th>CouncilArea</th>\n",
       "      <th>Lattitude</th>\n",
       "      <th>Longtitude</th>\n",
       "      <th>Regionname</th>\n",
       "      <th>Propertycount</th>\n",
       "    </tr>\n",
       "  </thead>\n",
       "  <tbody>\n",
       "    <tr>\n",
       "      <th>0</th>\n",
       "      <td>Abbotsford</td>\n",
       "      <td>68 Studley St</td>\n",
       "      <td>2</td>\n",
       "      <td>0</td>\n",
       "      <td>0.000000</td>\n",
       "      <td>SS</td>\n",
       "      <td>Jellis</td>\n",
       "      <td>3/09/2016</td>\n",
       "      <td>-1.279322</td>\n",
       "      <td>3067.0</td>\n",
       "      <td>...</td>\n",
       "      <td>1.000000</td>\n",
       "      <td>1.000000</td>\n",
       "      <td>-0.169196</td>\n",
       "      <td>160.2564</td>\n",
       "      <td>1965.289885</td>\n",
       "      <td>Yarra City Council</td>\n",
       "      <td>-37.801400</td>\n",
       "      <td>144.995800</td>\n",
       "      <td>Northern Metropolitan</td>\n",
       "      <td>-0.802624</td>\n",
       "    </tr>\n",
       "    <tr>\n",
       "      <th>1</th>\n",
       "      <td>Abbotsford</td>\n",
       "      <td>85 Turner St</td>\n",
       "      <td>2</td>\n",
       "      <td>0</td>\n",
       "      <td>0.757901</td>\n",
       "      <td>S</td>\n",
       "      <td>Biggin</td>\n",
       "      <td>3/12/2016</td>\n",
       "      <td>-1.279322</td>\n",
       "      <td>3067.0</td>\n",
       "      <td>...</td>\n",
       "      <td>1.000000</td>\n",
       "      <td>1.000000</td>\n",
       "      <td>-0.141696</td>\n",
       "      <td>160.2564</td>\n",
       "      <td>1965.289885</td>\n",
       "      <td>Yarra City Council</td>\n",
       "      <td>-37.799600</td>\n",
       "      <td>144.998400</td>\n",
       "      <td>Northern Metropolitan</td>\n",
       "      <td>-0.802624</td>\n",
       "    </tr>\n",
       "    <tr>\n",
       "      <th>2</th>\n",
       "      <td>Abbotsford</td>\n",
       "      <td>25 Bloomburg St</td>\n",
       "      <td>2</td>\n",
       "      <td>0</td>\n",
       "      <td>-0.026755</td>\n",
       "      <td>S</td>\n",
       "      <td>Biggin</td>\n",
       "      <td>4/02/2016</td>\n",
       "      <td>-1.279322</td>\n",
       "      <td>3067.0</td>\n",
       "      <td>...</td>\n",
       "      <td>1.000000</td>\n",
       "      <td>0.000000</td>\n",
       "      <td>-0.158341</td>\n",
       "      <td>79.0000</td>\n",
       "      <td>1900.000000</td>\n",
       "      <td>Yarra City Council</td>\n",
       "      <td>-37.807900</td>\n",
       "      <td>144.993400</td>\n",
       "      <td>Northern Metropolitan</td>\n",
       "      <td>-0.802624</td>\n",
       "    </tr>\n",
       "    <tr>\n",
       "      <th>3</th>\n",
       "      <td>Abbotsford</td>\n",
       "      <td>18/659 Victoria St</td>\n",
       "      <td>3</td>\n",
       "      <td>2</td>\n",
       "      <td>0.000000</td>\n",
       "      <td>VB</td>\n",
       "      <td>Rounds</td>\n",
       "      <td>4/02/2016</td>\n",
       "      <td>-1.279322</td>\n",
       "      <td>3067.0</td>\n",
       "      <td>...</td>\n",
       "      <td>2.000000</td>\n",
       "      <td>1.000000</td>\n",
       "      <td>-0.214788</td>\n",
       "      <td>160.2564</td>\n",
       "      <td>1965.289885</td>\n",
       "      <td>Yarra City Council</td>\n",
       "      <td>-37.811400</td>\n",
       "      <td>145.011600</td>\n",
       "      <td>Northern Metropolitan</td>\n",
       "      <td>-0.802624</td>\n",
       "    </tr>\n",
       "    <tr>\n",
       "      <th>4</th>\n",
       "      <td>Abbotsford</td>\n",
       "      <td>5 Charles St</td>\n",
       "      <td>3</td>\n",
       "      <td>0</td>\n",
       "      <td>0.731452</td>\n",
       "      <td>SP</td>\n",
       "      <td>Biggin</td>\n",
       "      <td>4/03/2017</td>\n",
       "      <td>-1.279322</td>\n",
       "      <td>3067.0</td>\n",
       "      <td>...</td>\n",
       "      <td>2.000000</td>\n",
       "      <td>0.000000</td>\n",
       "      <td>-0.166301</td>\n",
       "      <td>150.0000</td>\n",
       "      <td>1900.000000</td>\n",
       "      <td>Yarra City Council</td>\n",
       "      <td>-37.809300</td>\n",
       "      <td>144.994400</td>\n",
       "      <td>Northern Metropolitan</td>\n",
       "      <td>-0.802624</td>\n",
       "    </tr>\n",
       "    <tr>\n",
       "      <th>...</th>\n",
       "      <td>...</td>\n",
       "      <td>...</td>\n",
       "      <td>...</td>\n",
       "      <td>...</td>\n",
       "      <td>...</td>\n",
       "      <td>...</td>\n",
       "      <td>...</td>\n",
       "      <td>...</td>\n",
       "      <td>...</td>\n",
       "      <td>...</td>\n",
       "      <td>...</td>\n",
       "      <td>...</td>\n",
       "      <td>...</td>\n",
       "      <td>...</td>\n",
       "      <td>...</td>\n",
       "      <td>...</td>\n",
       "      <td>...</td>\n",
       "      <td>...</td>\n",
       "      <td>...</td>\n",
       "      <td>...</td>\n",
       "      <td>...</td>\n",
       "    </tr>\n",
       "    <tr>\n",
       "      <th>34852</th>\n",
       "      <td>Yarraville</td>\n",
       "      <td>13 Burns St</td>\n",
       "      <td>4</td>\n",
       "      <td>0</td>\n",
       "      <td>0.757901</td>\n",
       "      <td>PI</td>\n",
       "      <td>Jas</td>\n",
       "      <td>24/02/2018</td>\n",
       "      <td>-0.719568</td>\n",
       "      <td>3013.0</td>\n",
       "      <td>...</td>\n",
       "      <td>1.000000</td>\n",
       "      <td>3.000000</td>\n",
       "      <td>-0.000217</td>\n",
       "      <td>160.2564</td>\n",
       "      <td>1965.289885</td>\n",
       "      <td>Maribyrnong City Council</td>\n",
       "      <td>-37.810530</td>\n",
       "      <td>144.884670</td>\n",
       "      <td>Western Metropolitan</td>\n",
       "      <td>-0.232594</td>\n",
       "    </tr>\n",
       "    <tr>\n",
       "      <th>34853</th>\n",
       "      <td>Yarraville</td>\n",
       "      <td>29A Murray St</td>\n",
       "      <td>2</td>\n",
       "      <td>0</td>\n",
       "      <td>-0.285956</td>\n",
       "      <td>SP</td>\n",
       "      <td>Sweeney</td>\n",
       "      <td>24/02/2018</td>\n",
       "      <td>-0.719568</td>\n",
       "      <td>3013.0</td>\n",
       "      <td>...</td>\n",
       "      <td>2.000000</td>\n",
       "      <td>1.000000</td>\n",
       "      <td>-0.179327</td>\n",
       "      <td>104.0000</td>\n",
       "      <td>2018.000000</td>\n",
       "      <td>Maribyrnong City Council</td>\n",
       "      <td>-37.815510</td>\n",
       "      <td>144.888260</td>\n",
       "      <td>Western Metropolitan</td>\n",
       "      <td>-0.232594</td>\n",
       "    </tr>\n",
       "    <tr>\n",
       "      <th>34854</th>\n",
       "      <td>Yarraville</td>\n",
       "      <td>147A Severn St</td>\n",
       "      <td>2</td>\n",
       "      <td>1</td>\n",
       "      <td>-0.608634</td>\n",
       "      <td>S</td>\n",
       "      <td>Jas</td>\n",
       "      <td>24/02/2018</td>\n",
       "      <td>-0.719568</td>\n",
       "      <td>3013.0</td>\n",
       "      <td>...</td>\n",
       "      <td>1.000000</td>\n",
       "      <td>2.000000</td>\n",
       "      <td>-0.135183</td>\n",
       "      <td>120.0000</td>\n",
       "      <td>2000.000000</td>\n",
       "      <td>Maribyrnong City Council</td>\n",
       "      <td>-37.822860</td>\n",
       "      <td>144.878560</td>\n",
       "      <td>Western Metropolitan</td>\n",
       "      <td>-0.232594</td>\n",
       "    </tr>\n",
       "    <tr>\n",
       "      <th>34855</th>\n",
       "      <td>Yarraville</td>\n",
       "      <td>12/37 Stephen St</td>\n",
       "      <td>3</td>\n",
       "      <td>0</td>\n",
       "      <td>0.158389</td>\n",
       "      <td>SP</td>\n",
       "      <td>hockingstuart</td>\n",
       "      <td>24/02/2018</td>\n",
       "      <td>-0.719568</td>\n",
       "      <td>3013.0</td>\n",
       "      <td>...</td>\n",
       "      <td>1.624798</td>\n",
       "      <td>1.728845</td>\n",
       "      <td>0.000000</td>\n",
       "      <td>160.2564</td>\n",
       "      <td>1965.289885</td>\n",
       "      <td>Maribyrnong City Council</td>\n",
       "      <td>-37.810634</td>\n",
       "      <td>145.001851</td>\n",
       "      <td>Western Metropolitan</td>\n",
       "      <td>-0.232594</td>\n",
       "    </tr>\n",
       "    <tr>\n",
       "      <th>34856</th>\n",
       "      <td>Yarraville</td>\n",
       "      <td>3 Tarrengower St</td>\n",
       "      <td>2</td>\n",
       "      <td>0</td>\n",
       "      <td>-0.053204</td>\n",
       "      <td>PI</td>\n",
       "      <td>RW</td>\n",
       "      <td>24/02/2018</td>\n",
       "      <td>-0.719568</td>\n",
       "      <td>3013.0</td>\n",
       "      <td>...</td>\n",
       "      <td>1.000000</td>\n",
       "      <td>0.000000</td>\n",
       "      <td>-0.124328</td>\n",
       "      <td>103.0000</td>\n",
       "      <td>1930.000000</td>\n",
       "      <td>Maribyrnong City Council</td>\n",
       "      <td>-37.818100</td>\n",
       "      <td>144.893510</td>\n",
       "      <td>Western Metropolitan</td>\n",
       "      <td>-0.232594</td>\n",
       "    </tr>\n",
       "  </tbody>\n",
       "</table>\n",
       "<p>34857 rows × 21 columns</p>\n",
       "</div>"
      ],
      "text/plain": [
       "           Suburb             Address  Rooms  Type     Price Method  \\\n",
       "0      Abbotsford       68 Studley St      2     0  0.000000     SS   \n",
       "1      Abbotsford        85 Turner St      2     0  0.757901      S   \n",
       "2      Abbotsford     25 Bloomburg St      2     0 -0.026755      S   \n",
       "3      Abbotsford  18/659 Victoria St      3     2  0.000000     VB   \n",
       "4      Abbotsford        5 Charles St      3     0  0.731452     SP   \n",
       "...           ...                 ...    ...   ...       ...    ...   \n",
       "34852  Yarraville         13 Burns St      4     0  0.757901     PI   \n",
       "34853  Yarraville       29A Murray St      2     0 -0.285956     SP   \n",
       "34854  Yarraville      147A Severn St      2     1 -0.608634      S   \n",
       "34855  Yarraville    12/37 Stephen St      3     0  0.158389     SP   \n",
       "34856  Yarraville    3 Tarrengower St      2     0 -0.053204     PI   \n",
       "\n",
       "             SellerG        Date  Distance  Postcode  ...  Bathroom       Car  \\\n",
       "0             Jellis   3/09/2016 -1.279322    3067.0  ...  1.000000  1.000000   \n",
       "1             Biggin   3/12/2016 -1.279322    3067.0  ...  1.000000  1.000000   \n",
       "2             Biggin   4/02/2016 -1.279322    3067.0  ...  1.000000  0.000000   \n",
       "3             Rounds   4/02/2016 -1.279322    3067.0  ...  2.000000  1.000000   \n",
       "4             Biggin   4/03/2017 -1.279322    3067.0  ...  2.000000  0.000000   \n",
       "...              ...         ...       ...       ...  ...       ...       ...   \n",
       "34852            Jas  24/02/2018 -0.719568    3013.0  ...  1.000000  3.000000   \n",
       "34853        Sweeney  24/02/2018 -0.719568    3013.0  ...  2.000000  1.000000   \n",
       "34854            Jas  24/02/2018 -0.719568    3013.0  ...  1.000000  2.000000   \n",
       "34855  hockingstuart  24/02/2018 -0.719568    3013.0  ...  1.624798  1.728845   \n",
       "34856             RW  24/02/2018 -0.719568    3013.0  ...  1.000000  0.000000   \n",
       "\n",
       "       Landsize  BuildingArea    YearBuilt               CouncilArea  \\\n",
       "0     -0.169196      160.2564  1965.289885        Yarra City Council   \n",
       "1     -0.141696      160.2564  1965.289885        Yarra City Council   \n",
       "2     -0.158341       79.0000  1900.000000        Yarra City Council   \n",
       "3     -0.214788      160.2564  1965.289885        Yarra City Council   \n",
       "4     -0.166301      150.0000  1900.000000        Yarra City Council   \n",
       "...         ...           ...          ...                       ...   \n",
       "34852 -0.000217      160.2564  1965.289885  Maribyrnong City Council   \n",
       "34853 -0.179327      104.0000  2018.000000  Maribyrnong City Council   \n",
       "34854 -0.135183      120.0000  2000.000000  Maribyrnong City Council   \n",
       "34855  0.000000      160.2564  1965.289885  Maribyrnong City Council   \n",
       "34856 -0.124328      103.0000  1930.000000  Maribyrnong City Council   \n",
       "\n",
       "       Lattitude  Longtitude             Regionname Propertycount  \n",
       "0     -37.801400  144.995800  Northern Metropolitan     -0.802624  \n",
       "1     -37.799600  144.998400  Northern Metropolitan     -0.802624  \n",
       "2     -37.807900  144.993400  Northern Metropolitan     -0.802624  \n",
       "3     -37.811400  145.011600  Northern Metropolitan     -0.802624  \n",
       "4     -37.809300  144.994400  Northern Metropolitan     -0.802624  \n",
       "...          ...         ...                    ...           ...  \n",
       "34852 -37.810530  144.884670   Western Metropolitan     -0.232594  \n",
       "34853 -37.815510  144.888260   Western Metropolitan     -0.232594  \n",
       "34854 -37.822860  144.878560   Western Metropolitan     -0.232594  \n",
       "34855 -37.810634  145.001851   Western Metropolitan     -0.232594  \n",
       "34856 -37.818100  144.893510   Western Metropolitan     -0.232594  \n",
       "\n",
       "[34857 rows x 21 columns]"
      ]
     },
     "execution_count": 84,
     "metadata": {},
     "output_type": "execute_result"
    }
   ],
   "source": [
    "df"
   ]
  },
  {
   "cell_type": "markdown",
   "id": "2a549402",
   "metadata": {},
   "source": [
    "**Type column is classified with the dataset**"
   ]
  },
  {
   "cell_type": "code",
   "execution_count": 210,
   "id": "a3568999",
   "metadata": {},
   "outputs": [],
   "source": [
    "y = df ['Type'].values\n",
    "X = df.drop('Address', axis = 1)\n",
    "X = X.drop('CouncilArea', axis = 1)\n",
    "X = X.drop('Regionname', axis = 1)\n",
    "X = X.drop('Suburb', axis = 1)\n",
    "X = X.drop('SellerG', axis = 1)\n",
    "X = X.drop('Method', axis = 1)\n",
    "X = X.drop('Type', axis = 1)\n",
    "\n",
    "X = X.drop('Date', axis = 1)\n",
    "# Separating the dependent and independent variable\n",
    "  \n",
    "X_train, X_test, y_train, y_test = train_test_split(X, y, test_size=0.2, random_state=42)\n"
   ]
  },
  {
   "cell_type": "code",
   "execution_count": 211,
   "id": "0758bd9f",
   "metadata": {},
   "outputs": [],
   "source": [
    "from sklearn.preprocessing import MinMaxScaler #fixed import\n",
    "\n",
    "scaler = MinMaxScaler()\n",
    "X_train = scaler.fit_transform(X_train)\n",
    "X_test = scaler.transform(X_test)\n"
   ]
  },
  {
   "cell_type": "code",
   "execution_count": 212,
   "id": "8ea52c82",
   "metadata": {},
   "outputs": [
    {
     "data": {
      "text/plain": [
       "((27885, 13), (6972, 13), (27885,), (6972,))"
      ]
     },
     "execution_count": 212,
     "metadata": {},
     "output_type": "execute_result"
    }
   ],
   "source": [
    "X_train.shape, X_test.shape, y_train.shape, y_test.shape"
   ]
  },
  {
   "cell_type": "markdown",
   "id": "eecce7f4",
   "metadata": {},
   "source": [
    "**Minkowski Distance**"
   ]
  },
  {
   "cell_type": "code",
   "execution_count": 213,
   "id": "e944ecd9",
   "metadata": {},
   "outputs": [],
   "source": [
    "K = []\n",
    "training = []\n",
    "test = []\n",
    "scores = {}\n",
    "  \n",
    "for k in range(2, 6):\n",
    "    clf = KNeighborsClassifier(n_neighbors = k)\n",
    "    clf.fit(X_train, y_train)\n",
    "  \n",
    "    training_score = clf.score(X_train, y_train)\n",
    "    test_score = clf.score(X_test, y_test)\n",
    "    K.append(k)\n",
    "  \n",
    "    training.append(training_score)\n",
    "    test.append(test_score)\n",
    "    scores[k] = [training_score, test_score]"
   ]
  },
  {
   "cell_type": "code",
   "execution_count": 214,
   "id": "ee80cd02",
   "metadata": {},
   "outputs": [
    {
     "name": "stdout",
     "output_type": "stream",
     "text": [
      "Accuracy Scores\n",
      "2 : [0.8963959117805271, 0.8027825588066552]\n",
      "3 : [0.8894746279361664, 0.8112449799196787]\n",
      "4 : [0.875990675990676, 0.8115318416523236]\n",
      "5 : [0.8669535592612516, 0.8156913367756741]\n"
     ]
    }
   ],
   "source": [
    "print(\"Accuracy Scores\")\n",
    "for keys, values in scores.items():\n",
    "    print(keys, ':', values)\n"
   ]
  },
  {
   "cell_type": "code",
   "execution_count": 215,
   "id": "b95cf593",
   "metadata": {},
   "outputs": [
    {
     "name": "stderr",
     "output_type": "stream",
     "text": [
      "/home/joseph/Desktop/ml lab/lab1/mlenv/lib/python3.10/site-packages/seaborn/_decorators.py:36: FutureWarning: Pass the following variables as keyword args: x, y. From version 0.12, the only valid positional argument will be `data`, and passing other arguments without an explicit keyword will result in an error or misinterpretation.\n",
      "  warnings.warn(\n"
     ]
    },
    {
     "data": {
      "image/png": "[encoded data removed]",
      "text/plain": [
       "<Figure size 432x288 with 1 Axes>"
      ]
     },
     "metadata": {
      "needs_background": "light"
     },
     "output_type": "display_data"
    }
   ],
   "source": [
    "ax = sns.stripplot(K, training);\n",
    "ax.set(xlabel ='values of k', ylabel ='Training Score')  \n",
    "  \n",
    "plt.show()"
   ]
  },
  {
   "cell_type": "code",
   "execution_count": 216,
   "id": "d1e952ad",
   "metadata": {},
   "outputs": [
    {
     "name": "stderr",
     "output_type": "stream",
     "text": [
      "/home/joseph/Desktop/ml lab/lab1/mlenv/lib/python3.10/site-packages/seaborn/_decorators.py:36: FutureWarning: Pass the following variables as keyword args: x, y. From version 0.12, the only valid positional argument will be `data`, and passing other arguments without an explicit keyword will result in an error or misinterpretation.\n",
      "  warnings.warn(\n"
     ]
    },
    {
     "data": {
      "image/png": "[encoded data removed]",
      "text/plain": [
       "<Figure size 432x288 with 1 Axes>"
      ]
     },
     "metadata": {
      "needs_background": "light"
     },
     "output_type": "display_data"
    }
   ],
   "source": [
    "\n",
    "ax = sns.stripplot(K, test);\n",
    "ax.set(xlabel ='values of k', ylabel ='Test Score')\n",
    "plt.show()"
   ]
  },
  {
   "cell_type": "code",
   "execution_count": 217,
   "id": "16c8c999",
   "metadata": {},
   "outputs": [
    {
     "data": {
      "image/png": "[encoded data removed]",
      "text/plain": [
       "<Figure size 432x288 with 1 Axes>"
      ]
     },
     "metadata": {
      "needs_background": "light"
     },
     "output_type": "display_data"
    }
   ],
   "source": [
    "plt.scatter(K, training, color ='k')\n",
    "plt.scatter(K, test, color ='g')\n",
    "plt.show()\n",
    "# For overlapping scatter plots"
   ]
  },
  {
   "cell_type": "code",
   "execution_count": 218,
   "id": "1d081568",
   "metadata": {},
   "outputs": [
    {
     "name": "stdout",
     "output_type": "stream",
     "text": [
      "Accuracy: 0.8156913367756741\n"
     ]
    }
   ],
   "source": [
    "y_pred = clf.predict(X_test)\n",
    "\n",
    "from sklearn import metrics\n",
    "# Model Accuracy, how often is the classifier correct?\n",
    "print(\"Accuracy:\",metrics.accuracy_score(y_test, y_pred))"
   ]
  },
  {
   "cell_type": "code",
   "execution_count": 219,
   "id": "de0fb149",
   "metadata": {},
   "outputs": [
    {
     "name": "stderr",
     "output_type": "stream",
     "text": [
      "/home/joseph/Desktop/ml lab/lab1/mlenv/lib/python3.10/site-packages/sklearn/utils/deprecation.py:87: FutureWarning: Function plot_confusion_matrix is deprecated; Function `plot_confusion_matrix` is deprecated in 1.0 and will be removed in 1.2. Use one of the class methods: ConfusionMatrixDisplay.from_predictions or ConfusionMatrixDisplay.from_estimator.\n",
      "  warnings.warn(msg, category=FutureWarning)\n"
     ]
    },
    {
     "data": {
      "image/png": "[encoded data removed]",
      "text/plain": [
       "<Figure size 432x288 with 2 Axes>"
      ]
     },
     "metadata": {
      "needs_background": "light"
     },
     "output_type": "display_data"
    }
   ],
   "source": [
    "import matplotlib.pyplot as plt\n",
    "from sklearn.metrics import plot_confusion_matrix\n",
    " \n",
    "color = 'black'\n",
    "matrix = plot_confusion_matrix(clf, X_test, y_test, cmap=plt.cm.Blues)\n",
    "matrix.ax_.set_title('Confusion Matrix', color=color)\n",
    "plt.xlabel('Predicted Label', color=color)\n",
    "plt.ylabel('True Label', color=color)\n",
    "plt.gcf().axes[0].tick_params(colors=color)\n",
    "plt.gcf().axes[1].tick_params(colors=color)\n",
    "plt.show()"
   ]
  },
  {
   "cell_type": "markdown",
   "id": "ee25b021",
   "metadata": {},
   "source": [
    "**We can infer that** <br/>\n",
    "              precision    recall  f1-score   support\n",
    "\n",
    "           0       0.86      0.93      0.89      4748\n",
    "           1       0.40      0.28      0.33       733\n",
    "           2       0.81      0.71      0.76      1491\n",
    "\n",
    "    accuracy                           0.82      6972\n",
    "    macro avg       0.69      0.64      0.66      6972\n",
    "    weighted avg       0.80      0.82      0.81      6972"
   ]
  },
  {
   "cell_type": "code",
   "execution_count": 220,
   "id": "d4a06285",
   "metadata": {},
   "outputs": [
    {
     "name": "stdout",
     "output_type": "stream",
     "text": [
      "              precision    recall  f1-score   support\n",
      "\n",
      "           0       0.86      0.93      0.89      4748\n",
      "           1       0.40      0.28      0.33       733\n",
      "           2       0.81      0.71      0.76      1491\n",
      "\n",
      "    accuracy                           0.82      6972\n",
      "   macro avg       0.69      0.64      0.66      6972\n",
      "weighted avg       0.80      0.82      0.81      6972\n",
      "\n"
     ]
    }
   ],
   "source": [
    "from sklearn.metrics import classification_report\n",
    " \n",
    "print(classification_report(y_test, y_pred))"
   ]
  },
  {
   "cell_type": "markdown",
   "id": "8191a220",
   "metadata": {},
   "source": [
    "**Manhattan distance**"
   ]
  },
  {
   "cell_type": "code",
   "execution_count": 98,
   "id": "1c36efdb",
   "metadata": {},
   "outputs": [],
   "source": [
    "\n",
    "K = []\n",
    "training = []\n",
    "test = []\n",
    "scores = {}\n",
    "  \n",
    "for k in range(2, 6):\n",
    "    clf = KNeighborsClassifier(n_neighbors = k, p = 1)\n",
    "    clf.fit(X_train, y_train)\n",
    "  \n",
    "    training_score = clf.score(X_train, y_train)\n",
    "    test_score = clf.score(X_test, y_test)\n",
    "    K.append(k)\n",
    "  \n",
    "    training.append(training_score)\n",
    "    test.append(test_score)\n",
    "    scores[k] = [training_score, test_score]"
   ]
  },
  {
   "cell_type": "code",
   "execution_count": 99,
   "id": "630d7d54",
   "metadata": {},
   "outputs": [
    {
     "name": "stdout",
     "output_type": "stream",
     "text": [
      "Accuracy Scores\n",
      "2 : [0.8975076205845437, 0.8030694205393001]\n",
      "3 : [0.8913752913752914, 0.8111015490533563]\n",
      "4 : [0.875667921821768, 0.8125358577165807]\n",
      "5 : [0.8703245472476242, 0.8172690763052208]\n"
     ]
    }
   ],
   "source": [
    "print(\"Accuracy Scores\")\n",
    "for keys, values in scores.items():\n",
    "    print(keys, ':', values)\n"
   ]
  },
  {
   "cell_type": "code",
   "execution_count": 100,
   "id": "3551fcfc",
   "metadata": {},
   "outputs": [
    {
     "name": "stderr",
     "output_type": "stream",
     "text": [
      "/home/joseph/Desktop/ml lab/lab1/mlenv/lib/python3.10/site-packages/seaborn/_decorators.py:36: FutureWarning: Pass the following variables as keyword args: x, y. From version 0.12, the only valid positional argument will be `data`, and passing other arguments without an explicit keyword will result in an error or misinterpretation.\n",
      "  warnings.warn(\n"
     ]
    },
    {
     "data": {
      "image/png": "[encoded data removed]",
      "text/plain": [
       "<Figure size 432x288 with 1 Axes>"
      ]
     },
     "metadata": {
      "needs_background": "light"
     },
     "output_type": "display_data"
    }
   ],
   "source": [
    "ax = sns.stripplot(K, training);\n",
    "ax.set(xlabel ='values of k', ylabel ='Training Score')  \n",
    "  \n",
    "plt.show()"
   ]
  },
  {
   "cell_type": "code",
   "execution_count": 101,
   "id": "3ce39bff",
   "metadata": {},
   "outputs": [
    {
     "name": "stderr",
     "output_type": "stream",
     "text": [
      "/home/joseph/Desktop/ml lab/lab1/mlenv/lib/python3.10/site-packages/seaborn/_decorators.py:36: FutureWarning: Pass the following variables as keyword args: x, y. From version 0.12, the only valid positional argument will be `data`, and passing other arguments without an explicit keyword will result in an error or misinterpretation.\n",
      "  warnings.warn(\n"
     ]
    },
    {
     "data": {
      "image/png": "[encoded data removed]",
      "text/plain": [
       "<Figure size 432x288 with 1 Axes>"
      ]
     },
     "metadata": {
      "needs_background": "light"
     },
     "output_type": "display_data"
    }
   ],
   "source": [
    "\n",
    "ax = sns.stripplot(K, test);\n",
    "ax.set(xlabel ='values of k', ylabel ='Test Score')\n",
    "plt.show()"
   ]
  },
  {
   "cell_type": "code",
   "execution_count": 102,
   "id": "da638190",
   "metadata": {},
   "outputs": [
    {
     "data": {
      "image/png": "[encoded data removed]",
      "text/plain": [
       "<Figure size 432x288 with 1 Axes>"
      ]
     },
     "metadata": {
      "needs_background": "light"
     },
     "output_type": "display_data"
    }
   ],
   "source": [
    "plt.scatter(K, training, color ='k')\n",
    "plt.scatter(K, test, color ='g')\n",
    "plt.show()\n",
    "# For overlapping scatter plots"
   ]
  },
  {
   "cell_type": "code",
   "execution_count": 103,
   "id": "18d38e8e",
   "metadata": {},
   "outputs": [
    {
     "name": "stdout",
     "output_type": "stream",
     "text": [
      "Accuracy: 0.8172690763052208\n"
     ]
    }
   ],
   "source": [
    "y_pred = clf.predict(X_test)\n",
    "\n",
    "from sklearn import metrics\n",
    "# Model Accuracy, how often is the classifier correct?\n",
    "print(\"Accuracy:\",metrics.accuracy_score(y_test, y_pred))"
   ]
  },
  {
   "cell_type": "code",
   "execution_count": 104,
   "id": "f5a4bcc1",
   "metadata": {},
   "outputs": [
    {
     "name": "stderr",
     "output_type": "stream",
     "text": [
      "/home/joseph/Desktop/ml lab/lab1/mlenv/lib/python3.10/site-packages/sklearn/utils/deprecation.py:87: FutureWarning: Function plot_confusion_matrix is deprecated; Function `plot_confusion_matrix` is deprecated in 1.0 and will be removed in 1.2. Use one of the class methods: ConfusionMatrixDisplay.from_predictions or ConfusionMatrixDisplay.from_estimator.\n",
      "  warnings.warn(msg, category=FutureWarning)\n"
     ]
    },
    {
     "data": {
      "image/png": "[encoded data removed]",
      "text/plain": [
       "<Figure size 432x288 with 2 Axes>"
      ]
     },
     "metadata": {
      "needs_background": "light"
     },
     "output_type": "display_data"
    }
   ],
   "source": [
    "import matplotlib.pyplot as plt\n",
    "from sklearn.metrics import plot_confusion_matrix\n",
    " \n",
    "color = 'black'\n",
    "matrix = plot_confusion_matrix(clf, X_test, y_test, cmap=plt.cm.Blues)\n",
    "matrix.ax_.set_title('Confusion Matrix', color=color)\n",
    "plt.xlabel('Predicted Label', color=color)\n",
    "plt.ylabel('True Label', color=color)\n",
    "plt.gcf().axes[0].tick_params(colors=color)\n",
    "plt.gcf().axes[1].tick_params(colors=color)\n",
    "plt.show()"
   ]
  },
  {
   "cell_type": "code",
   "execution_count": 105,
   "id": "dce20e93",
   "metadata": {},
   "outputs": [
    {
     "name": "stdout",
     "output_type": "stream",
     "text": [
      "              precision    recall  f1-score   support\n",
      "\n",
      "           0       0.86      0.93      0.89      4748\n",
      "           1       0.40      0.28      0.33       733\n",
      "           2       0.81      0.72      0.76      1491\n",
      "\n",
      "    accuracy                           0.82      6972\n",
      "   macro avg       0.69      0.64      0.66      6972\n",
      "weighted avg       0.80      0.82      0.81      6972\n",
      "\n"
     ]
    }
   ],
   "source": [
    "from sklearn.metrics import classification_report\n",
    " \n",
    "print(classification_report(y_test, y_pred))"
   ]
  },
  {
   "cell_type": "markdown",
   "id": "9312598e",
   "metadata": {},
   "source": [
    "**We can infer that** <br/>\n",
    "              precision    recall  f1-score   support\n",
    "\n",
    "           0       0.86      0.93      0.89      4748\n",
    "           1       0.40      0.28      0.33       733\n",
    "           2       0.81      0.72      0.76      1491\n",
    "\n",
    "    accuracy                           0.82      6972\n",
    "    macro avg       0.69      0.64      0.66      6972\n",
    "    weighted avg       0.80      0.82      0.81      6972\n"
   ]
  },
  {
   "cell_type": "markdown",
   "id": "9f956f44",
   "metadata": {},
   "source": [
    "**Euclidean Distance**"
   ]
  },
  {
   "cell_type": "code",
   "execution_count": 106,
   "id": "f898d4b4",
   "metadata": {},
   "outputs": [],
   "source": [
    "\n",
    "K = []\n",
    "training = []\n",
    "test = []\n",
    "scores = {}\n",
    "  \n",
    "for k in range(2, 6):\n",
    "    clf = KNeighborsClassifier(n_neighbors = k, p = 2)\n",
    "    clf.fit(X_train, y_train)\n",
    "  \n",
    "    training_score = clf.score(X_train, y_train)\n",
    "    test_score = clf.score(X_test, y_test)\n",
    "    K.append(k)\n",
    "  \n",
    "    training.append(training_score)\n",
    "    test.append(test_score)\n",
    "    scores[k] = [training_score, test_score]"
   ]
  },
  {
   "cell_type": "code",
   "execution_count": 107,
   "id": "d41ee39b",
   "metadata": {},
   "outputs": [
    {
     "name": "stdout",
     "output_type": "stream",
     "text": [
      "Accuracy Scores\n",
      "2 : [0.8963959117805271, 0.8027825588066552]\n",
      "3 : [0.8894746279361664, 0.8112449799196787]\n",
      "4 : [0.875990675990676, 0.8115318416523236]\n",
      "5 : [0.8669535592612516, 0.8156913367756741]\n"
     ]
    }
   ],
   "source": [
    "print(\"Accuracy Scores\")\n",
    "for keys, values in scores.items():\n",
    "    print(keys, ':', values)\n"
   ]
  },
  {
   "cell_type": "code",
   "execution_count": 108,
   "id": "aaaa5cea",
   "metadata": {},
   "outputs": [
    {
     "name": "stderr",
     "output_type": "stream",
     "text": [
      "/home/joseph/Desktop/ml lab/lab1/mlenv/lib/python3.10/site-packages/seaborn/_decorators.py:36: FutureWarning: Pass the following variables as keyword args: x, y. From version 0.12, the only valid positional argument will be `data`, and passing other arguments without an explicit keyword will result in an error or misinterpretation.\n",
      "  warnings.warn(\n"
     ]
    },
    {
     "data": {
      "image/png": "[encoded data removed]",
      "text/plain": [
       "<Figure size 432x288 with 1 Axes>"
      ]
     },
     "metadata": {
      "needs_background": "light"
     },
     "output_type": "display_data"
    }
   ],
   "source": [
    "ax = sns.stripplot(K, training);\n",
    "ax.set(xlabel ='values of k', ylabel ='Training Score')  \n",
    "  \n",
    "plt.show()"
   ]
  },
  {
   "cell_type": "code",
   "execution_count": 109,
   "id": "3b32f652",
   "metadata": {},
   "outputs": [
    {
     "name": "stderr",
     "output_type": "stream",
     "text": [
      "/home/joseph/Desktop/ml lab/lab1/mlenv/lib/python3.10/site-packages/seaborn/_decorators.py:36: FutureWarning: Pass the following variables as keyword args: x, y. From version 0.12, the only valid positional argument will be `data`, and passing other arguments without an explicit keyword will result in an error or misinterpretation.\n",
      "  warnings.warn(\n"
     ]
    },
    {
     "data": {
      "image/png": "[encoded data removed]",
      "text/plain": [
       "<Figure size 432x288 with 1 Axes>"
      ]
     },
     "metadata": {
      "needs_background": "light"
     },
     "output_type": "display_data"
    }
   ],
   "source": [
    "\n",
    "ax = sns.stripplot(K, test);\n",
    "ax.set(xlabel ='values of k', ylabel ='Test Score')\n",
    "plt.show()"
   ]
  },
  {
   "cell_type": "code",
   "execution_count": 110,
   "id": "37be3cab",
   "metadata": {},
   "outputs": [
    {
     "data": {
      "image/png": "[encoded data removed]",
      "text/plain": [
       "<Figure size 432x288 with 1 Axes>"
      ]
     },
     "metadata": {
      "needs_background": "light"
     },
     "output_type": "display_data"
    }
   ],
   "source": [
    "plt.scatter(K, training, color ='k')\n",
    "plt.scatter(K, test, color ='g')\n",
    "plt.show()\n",
    "# For overlapping scatter plots"
   ]
  },
  {
   "cell_type": "code",
   "execution_count": 111,
   "id": "ffec8486",
   "metadata": {},
   "outputs": [
    {
     "name": "stdout",
     "output_type": "stream",
     "text": [
      "Accuracy: 0.8156913367756741\n"
     ]
    }
   ],
   "source": [
    "y_pred = clf.predict(X_test)\n",
    "\n",
    "from sklearn import metrics\n",
    "# Model Accuracy, how often is the classifier correct?\n",
    "print(\"Accuracy:\",metrics.accuracy_score(y_test, y_pred))"
   ]
  },
  {
   "cell_type": "code",
   "execution_count": 168,
   "id": "896f860e",
   "metadata": {},
   "outputs": [
    {
     "name": "stderr",
     "output_type": "stream",
     "text": [
      "/home/joseph/Desktop/ml lab/lab1/mlenv/lib/python3.10/site-packages/sklearn/utils/deprecation.py:87: FutureWarning: Function plot_confusion_matrix is deprecated; Function `plot_confusion_matrix` is deprecated in 1.0 and will be removed in 1.2. Use one of the class methods: ConfusionMatrixDisplay.from_predictions or ConfusionMatrixDisplay.from_estimator.\n",
      "  warnings.warn(msg, category=FutureWarning)\n"
     ]
    },
    {
     "data": {
      "image/png": "[encoded data removed]",
      "text/plain": [
       "<Figure size 432x288 with 2 Axes>"
      ]
     },
     "metadata": {
      "needs_background": "light"
     },
     "output_type": "display_data"
    }
   ],
   "source": [
    "import matplotlib.pyplot as plt\n",
    "from sklearn.metrics import plot_confusion_matrix\n",
    " \n",
    "color = 'black'\n",
    "matrix = plot_confusion_matrix(clf, X_test, y_test, cmap=plt.cm.Blues)\n",
    "matrix.ax_.set_title('Confusion Matrix', color=color)\n",
    "plt.xlabel('Predicted Label', color=color)\n",
    "plt.ylabel('True Label', color=color)\n",
    "plt.gcf().axes[0].tick_params(colors=color)\n",
    "plt.gcf().axes[1].tick_params(colors=color)\n",
    "plt.show()"
   ]
  },
  {
   "cell_type": "code",
   "execution_count": 113,
   "id": "633e464d",
   "metadata": {},
   "outputs": [
    {
     "name": "stdout",
     "output_type": "stream",
     "text": [
      "              precision    recall  f1-score   support\n",
      "\n",
      "           0       0.86      0.93      0.89      4748\n",
      "           1       0.40      0.28      0.33       733\n",
      "           2       0.81      0.71      0.76      1491\n",
      "\n",
      "    accuracy                           0.82      6972\n",
      "   macro avg       0.69      0.64      0.66      6972\n",
      "weighted avg       0.80      0.82      0.81      6972\n",
      "\n"
     ]
    }
   ],
   "source": [
    "from sklearn.metrics import classification_report\n",
    " \n",
    "print(classification_report(y_test, y_pred))"
   ]
  },
  {
   "cell_type": "markdown",
   "id": "84ba6c97",
   "metadata": {},
   "source": [
    "**We can infer that** <br/>\n",
    "\n",
    "              precision    recall  f1-score   support\n",
    "\n",
    "           0       0.86      0.93      0.89      4748\n",
    "           1       0.40      0.28      0.33       733\n",
    "           2       0.81      0.71      0.76      1491\n",
    "\n",
    "    accuracy                           0.82      6972\n",
    "    macro avg       0.69      0.64      0.66      6972\n",
    "    weighted avg       0.80      0.82      0.81      6972"
   ]
  },
  {
   "cell_type": "markdown",
   "id": "5877ead5",
   "metadata": {},
   "source": [
    "# Naïve Bayes Classifier"
   ]
  },
  {
   "cell_type": "code",
   "execution_count": 228,
   "id": "30958a31",
   "metadata": {},
   "outputs": [
    {
     "data": {
      "text/html": [
       "<style>#sk-container-id-18 {color: black;background-color: white;}#sk-container-id-18 pre{padding: 0;}#sk-container-id-18 div.sk-toggleable {background-color: white;}#sk-container-id-18 label.sk-toggleable__label {cursor: pointer;display: block;width: 100%;margin-bottom: 0;padding: 0.3em;box-sizing: border-box;text-align: center;}#sk-container-id-18 label.sk-toggleable__label-arrow:before {content: \"▸\";float: left;margin-right: 0.25em;color: #696969;}#sk-container-id-18 label.sk-toggleable__label-arrow:hover:before {color: black;}#sk-container-id-18 div.sk-estimator:hover label.sk-toggleable__label-arrow:before {color: black;}#sk-container-id-18 div.sk-toggleable__content {max-height: 0;max-width: 0;overflow: hidden;text-align: left;background-color: #f0f8ff;}#sk-container-id-18 div.sk-toggleable__content pre {margin: 0.2em;color: black;border-radius: 0.25em;background-color: #f0f8ff;}#sk-container-id-18 input.sk-toggleable__control:checked~div.sk-toggleable__content {max-height: 200px;max-width: 100%;overflow: auto;}#sk-container-id-18 input.sk-toggleable__control:checked~label.sk-toggleable__label-arrow:before {content: \"▾\";}#sk-container-id-18 div.sk-estimator input.sk-toggleable__control:checked~label.sk-toggleable__label {background-color: #d4ebff;}#sk-container-id-18 div.sk-label input.sk-toggleable__control:checked~label.sk-toggleable__label {background-color: #d4ebff;}#sk-container-id-18 input.sk-hidden--visually {border: 0;clip: rect(1px 1px 1px 1px);clip: rect(1px, 1px, 1px, 1px);height: 1px;margin: -1px;overflow: hidden;padding: 0;position: absolute;width: 1px;}#sk-container-id-18 div.sk-estimator {font-family: monospace;background-color: #f0f8ff;border: 1px dotted black;border-radius: 0.25em;box-sizing: border-box;margin-bottom: 0.5em;}#sk-container-id-18 div.sk-estimator:hover {background-color: #d4ebff;}#sk-container-id-18 div.sk-parallel-item::after {content: \"\";width: 100%;border-bottom: 1px solid gray;flex-grow: 1;}#sk-container-id-18 div.sk-label:hover label.sk-toggleable__label {background-color: #d4ebff;}#sk-container-id-18 div.sk-serial::before {content: \"\";position: absolute;border-left: 1px solid gray;box-sizing: border-box;top: 0;bottom: 0;left: 50%;z-index: 0;}#sk-container-id-18 div.sk-serial {display: flex;flex-direction: column;align-items: center;background-color: white;padding-right: 0.2em;padding-left: 0.2em;position: relative;}#sk-container-id-18 div.sk-item {position: relative;z-index: 1;}#sk-container-id-18 div.sk-parallel {display: flex;align-items: stretch;justify-content: center;background-color: white;position: relative;}#sk-container-id-18 div.sk-item::before, #sk-container-id-18 div.sk-parallel-item::before {content: \"\";position: absolute;border-left: 1px solid gray;box-sizing: border-box;top: 0;bottom: 0;left: 50%;z-index: -1;}#sk-container-id-18 div.sk-parallel-item {display: flex;flex-direction: column;z-index: 1;position: relative;background-color: white;}#sk-container-id-18 div.sk-parallel-item:first-child::after {align-self: flex-end;width: 50%;}#sk-container-id-18 div.sk-parallel-item:last-child::after {align-self: flex-start;width: 50%;}#sk-container-id-18 div.sk-parallel-item:only-child::after {width: 0;}#sk-container-id-18 div.sk-dashed-wrapped {border: 1px dashed gray;margin: 0 0.4em 0.5em 0.4em;box-sizing: border-box;padding-bottom: 0.4em;background-color: white;}#sk-container-id-18 div.sk-label label {font-family: monospace;font-weight: bold;display: inline-block;line-height: 1.2em;}#sk-container-id-18 div.sk-label-container {text-align: center;}#sk-container-id-18 div.sk-container {/* jupyter's `normalize.less` sets `[hidden] { display: none; }` but bootstrap.min.css set `[hidden] { display: none !important; }` so we also need the `!important` here to be able to override the default hidden behavior on the sphinx rendered scikit-learn.org. See: https://github.com/scikit-learn/scikit-learn/issues/21755 */display: inline-block !important;position: relative;}#sk-container-id-18 div.sk-text-repr-fallback {display: none;}</style><div id=\"sk-container-id-18\" class=\"sk-top-container\"><div class=\"sk-text-repr-fallback\"><pre>GaussianNB()</pre><b>In a Jupyter environment, please rerun this cell to show the HTML representation or trust the notebook. <br />On GitHub, the HTML representation is unable to render, please try loading this page with nbviewer.org.</b></div><div class=\"sk-container\" hidden><div class=\"sk-item\"><div class=\"sk-estimator sk-toggleable\"><input class=\"sk-toggleable__control sk-hidden--visually\" id=\"sk-estimator-id-18\" type=\"checkbox\" checked><label for=\"sk-estimator-id-18\" class=\"sk-toggleable__label sk-toggleable__label-arrow\">GaussianNB</label><div class=\"sk-toggleable__content\"><pre>GaussianNB()</pre></div></div></div></div></div>"
      ],
      "text/plain": [
       "GaussianNB()"
      ]
     },
     "execution_count": 228,
     "metadata": {},
     "output_type": "execute_result"
    }
   ],
   "source": [
    "from sklearn.naive_bayes import GaussianNB\n",
    "clf = GaussianNB()\n",
    "clf.fit(X_train, y_train)\n"
   ]
  },
  {
   "cell_type": "code",
   "execution_count": 229,
   "id": "7c8bae43",
   "metadata": {},
   "outputs": [],
   "source": [
    "y_pred = clf.predict(X_test)\n"
   ]
  },
  {
   "cell_type": "code",
   "execution_count": 257,
   "id": "a0bd05ff",
   "metadata": {},
   "outputs": [
    {
     "name": "stdout",
     "output_type": "stream",
     "text": [
      "Accuracy: 0.6810097532989099\n"
     ]
    }
   ],
   "source": [
    "from sklearn import metrics\n",
    "print(\"Accuracy:\",metrics.accuracy_score(y_test, y_pred))\n"
   ]
  },
  {
   "cell_type": "code",
   "execution_count": null,
   "id": "66be5130",
   "metadata": {},
   "outputs": [],
   "source": []
  },
  {
   "cell_type": "code",
   "execution_count": 231,
   "id": "452c91e9",
   "metadata": {},
   "outputs": [
    {
     "name": "stderr",
     "output_type": "stream",
     "text": [
      "/home/joseph/Desktop/ml lab/lab1/mlenv/lib/python3.10/site-packages/sklearn/utils/deprecation.py:87: FutureWarning: Function plot_confusion_matrix is deprecated; Function `plot_confusion_matrix` is deprecated in 1.0 and will be removed in 1.2. Use one of the class methods: ConfusionMatrixDisplay.from_predictions or ConfusionMatrixDisplay.from_estimator.\n",
      "  warnings.warn(msg, category=FutureWarning)\n"
     ]
    },
    {
     "data": {
      "image/png": "[encoded data removed]",
      "text/plain": [
       "<Figure size 432x288 with 2 Axes>"
      ]
     },
     "metadata": {
      "needs_background": "light"
     },
     "output_type": "display_data"
    }
   ],
   "source": [
    "import matplotlib.pyplot as plt\n",
    "from sklearn.metrics import plot_confusion_matrix\n",
    " \n",
    "color = 'black'\n",
    "matrix = plot_confusion_matrix(clf, X_test, y_test, cmap=plt.cm.Blues)\n",
    "matrix.ax_.set_title('Confusion Matrix', color=color)\n",
    "plt.xlabel('Predicted Label', color=color)\n",
    "plt.ylabel('True Label', color=color)\n",
    "plt.gcf().axes[0].tick_params(colors=color)\n",
    "plt.gcf().axes[1].tick_params(colors=color)\n",
    "plt.show()"
   ]
  },
  {
   "cell_type": "code",
   "execution_count": 232,
   "id": "2d80476a",
   "metadata": {},
   "outputs": [],
   "source": [
    "from sklearn.naive_bayes import BernoulliNB"
   ]
  },
  {
   "cell_type": "code",
   "execution_count": 233,
   "id": "e44c5135",
   "metadata": {},
   "outputs": [],
   "source": [
    "clf = BernoulliNB()"
   ]
  },
  {
   "cell_type": "code",
   "execution_count": 234,
   "id": "71e87962",
   "metadata": {},
   "outputs": [
    {
     "data": {
      "text/html": [
       "<style>#sk-container-id-19 {color: black;background-color: white;}#sk-container-id-19 pre{padding: 0;}#sk-container-id-19 div.sk-toggleable {background-color: white;}#sk-container-id-19 label.sk-toggleable__label {cursor: pointer;display: block;width: 100%;margin-bottom: 0;padding: 0.3em;box-sizing: border-box;text-align: center;}#sk-container-id-19 label.sk-toggleable__label-arrow:before {content: \"▸\";float: left;margin-right: 0.25em;color: #696969;}#sk-container-id-19 label.sk-toggleable__label-arrow:hover:before {color: black;}#sk-container-id-19 div.sk-estimator:hover label.sk-toggleable__label-arrow:before {color: black;}#sk-container-id-19 div.sk-toggleable__content {max-height: 0;max-width: 0;overflow: hidden;text-align: left;background-color: #f0f8ff;}#sk-container-id-19 div.sk-toggleable__content pre {margin: 0.2em;color: black;border-radius: 0.25em;background-color: #f0f8ff;}#sk-container-id-19 input.sk-toggleable__control:checked~div.sk-toggleable__content {max-height: 200px;max-width: 100%;overflow: auto;}#sk-container-id-19 input.sk-toggleable__control:checked~label.sk-toggleable__label-arrow:before {content: \"▾\";}#sk-container-id-19 div.sk-estimator input.sk-toggleable__control:checked~label.sk-toggleable__label {background-color: #d4ebff;}#sk-container-id-19 div.sk-label input.sk-toggleable__control:checked~label.sk-toggleable__label {background-color: #d4ebff;}#sk-container-id-19 input.sk-hidden--visually {border: 0;clip: rect(1px 1px 1px 1px);clip: rect(1px, 1px, 1px, 1px);height: 1px;margin: -1px;overflow: hidden;padding: 0;position: absolute;width: 1px;}#sk-container-id-19 div.sk-estimator {font-family: monospace;background-color: #f0f8ff;border: 1px dotted black;border-radius: 0.25em;box-sizing: border-box;margin-bottom: 0.5em;}#sk-container-id-19 div.sk-estimator:hover {background-color: #d4ebff;}#sk-container-id-19 div.sk-parallel-item::after {content: \"\";width: 100%;border-bottom: 1px solid gray;flex-grow: 1;}#sk-container-id-19 div.sk-label:hover label.sk-toggleable__label {background-color: #d4ebff;}#sk-container-id-19 div.sk-serial::before {content: \"\";position: absolute;border-left: 1px solid gray;box-sizing: border-box;top: 0;bottom: 0;left: 50%;z-index: 0;}#sk-container-id-19 div.sk-serial {display: flex;flex-direction: column;align-items: center;background-color: white;padding-right: 0.2em;padding-left: 0.2em;position: relative;}#sk-container-id-19 div.sk-item {position: relative;z-index: 1;}#sk-container-id-19 div.sk-parallel {display: flex;align-items: stretch;justify-content: center;background-color: white;position: relative;}#sk-container-id-19 div.sk-item::before, #sk-container-id-19 div.sk-parallel-item::before {content: \"\";position: absolute;border-left: 1px solid gray;box-sizing: border-box;top: 0;bottom: 0;left: 50%;z-index: -1;}#sk-container-id-19 div.sk-parallel-item {display: flex;flex-direction: column;z-index: 1;position: relative;background-color: white;}#sk-container-id-19 div.sk-parallel-item:first-child::after {align-self: flex-end;width: 50%;}#sk-container-id-19 div.sk-parallel-item:last-child::after {align-self: flex-start;width: 50%;}#sk-container-id-19 div.sk-parallel-item:only-child::after {width: 0;}#sk-container-id-19 div.sk-dashed-wrapped {border: 1px dashed gray;margin: 0 0.4em 0.5em 0.4em;box-sizing: border-box;padding-bottom: 0.4em;background-color: white;}#sk-container-id-19 div.sk-label label {font-family: monospace;font-weight: bold;display: inline-block;line-height: 1.2em;}#sk-container-id-19 div.sk-label-container {text-align: center;}#sk-container-id-19 div.sk-container {/* jupyter's `normalize.less` sets `[hidden] { display: none; }` but bootstrap.min.css set `[hidden] { display: none !important; }` so we also need the `!important` here to be able to override the default hidden behavior on the sphinx rendered scikit-learn.org. See: https://github.com/scikit-learn/scikit-learn/issues/21755 */display: inline-block !important;position: relative;}#sk-container-id-19 div.sk-text-repr-fallback {display: none;}</style><div id=\"sk-container-id-19\" class=\"sk-top-container\"><div class=\"sk-text-repr-fallback\"><pre>BernoulliNB()</pre><b>In a Jupyter environment, please rerun this cell to show the HTML representation or trust the notebook. <br />On GitHub, the HTML representation is unable to render, please try loading this page with nbviewer.org.</b></div><div class=\"sk-container\" hidden><div class=\"sk-item\"><div class=\"sk-estimator sk-toggleable\"><input class=\"sk-toggleable__control sk-hidden--visually\" id=\"sk-estimator-id-19\" type=\"checkbox\" checked><label for=\"sk-estimator-id-19\" class=\"sk-toggleable__label sk-toggleable__label-arrow\">BernoulliNB</label><div class=\"sk-toggleable__content\"><pre>BernoulliNB()</pre></div></div></div></div></div>"
      ],
      "text/plain": [
       "BernoulliNB()"
      ]
     },
     "execution_count": 234,
     "metadata": {},
     "output_type": "execute_result"
    }
   ],
   "source": [
    "clf.fit(X_train, y_train)"
   ]
  },
  {
   "cell_type": "code",
   "execution_count": 235,
   "id": "1ad4a4e1",
   "metadata": {},
   "outputs": [],
   "source": [
    "y_pred = clf.predict(X_test)\n"
   ]
  },
  {
   "cell_type": "code",
   "execution_count": 236,
   "id": "47eee21c",
   "metadata": {},
   "outputs": [
    {
     "name": "stdout",
     "output_type": "stream",
     "text": [
      "Accuracy: 0.7586058519793459\n"
     ]
    }
   ],
   "source": [
    "from sklearn import metrics\n",
    "print(\"Accuracy:\",metrics.accuracy_score(y_test, y_pred))"
   ]
  },
  {
   "cell_type": "code",
   "execution_count": 237,
   "id": "299a3717",
   "metadata": {},
   "outputs": [
    {
     "name": "stderr",
     "output_type": "stream",
     "text": [
      "/home/joseph/Desktop/ml lab/lab1/mlenv/lib/python3.10/site-packages/sklearn/utils/deprecation.py:87: FutureWarning: Function plot_confusion_matrix is deprecated; Function `plot_confusion_matrix` is deprecated in 1.0 and will be removed in 1.2. Use one of the class methods: ConfusionMatrixDisplay.from_predictions or ConfusionMatrixDisplay.from_estimator.\n",
      "  warnings.warn(msg, category=FutureWarning)\n"
     ]
    },
    {
     "data": {
      "image/png": "[encoded data removed]",
      "text/plain": [
       "<Figure size 432x288 with 2 Axes>"
      ]
     },
     "metadata": {
      "needs_background": "light"
     },
     "output_type": "display_data"
    }
   ],
   "source": [
    "import matplotlib.pyplot as plt\n",
    "from sklearn.metrics import plot_confusion_matrix\n",
    " \n",
    "color = 'black'\n",
    "matrix = plot_confusion_matrix(clf, X_test, y_test, cmap=plt.cm.Blues)\n",
    "matrix.ax_.set_title('Confusion Matrix', color=color)\n",
    "plt.xlabel('Predicted Label', color=color)\n",
    "plt.ylabel('True Label', color=color)\n",
    "plt.gcf().axes[0].tick_params(colors=color)\n",
    "plt.gcf().axes[1].tick_params(colors=color)\n",
    "plt.show()"
   ]
  },
  {
   "cell_type": "code",
   "execution_count": 238,
   "id": "3950bd5a",
   "metadata": {},
   "outputs": [],
   "source": [
    "from sklearn.naive_bayes import MultinomialNB\n"
   ]
  },
  {
   "cell_type": "code",
   "execution_count": 239,
   "id": "6af27434",
   "metadata": {},
   "outputs": [],
   "source": [
    "clf = MultinomialNB()"
   ]
  },
  {
   "cell_type": "code",
   "execution_count": 240,
   "id": "c9626b7d",
   "metadata": {},
   "outputs": [
    {
     "data": {
      "text/html": [
       "<style>#sk-container-id-20 {color: black;background-color: white;}#sk-container-id-20 pre{padding: 0;}#sk-container-id-20 div.sk-toggleable {background-color: white;}#sk-container-id-20 label.sk-toggleable__label {cursor: pointer;display: block;width: 100%;margin-bottom: 0;padding: 0.3em;box-sizing: border-box;text-align: center;}#sk-container-id-20 label.sk-toggleable__label-arrow:before {content: \"▸\";float: left;margin-right: 0.25em;color: #696969;}#sk-container-id-20 label.sk-toggleable__label-arrow:hover:before {color: black;}#sk-container-id-20 div.sk-estimator:hover label.sk-toggleable__label-arrow:before {color: black;}#sk-container-id-20 div.sk-toggleable__content {max-height: 0;max-width: 0;overflow: hidden;text-align: left;background-color: #f0f8ff;}#sk-container-id-20 div.sk-toggleable__content pre {margin: 0.2em;color: black;border-radius: 0.25em;background-color: #f0f8ff;}#sk-container-id-20 input.sk-toggleable__control:checked~div.sk-toggleable__content {max-height: 200px;max-width: 100%;overflow: auto;}#sk-container-id-20 input.sk-toggleable__control:checked~label.sk-toggleable__label-arrow:before {content: \"▾\";}#sk-container-id-20 div.sk-estimator input.sk-toggleable__control:checked~label.sk-toggleable__label {background-color: #d4ebff;}#sk-container-id-20 div.sk-label input.sk-toggleable__control:checked~label.sk-toggleable__label {background-color: #d4ebff;}#sk-container-id-20 input.sk-hidden--visually {border: 0;clip: rect(1px 1px 1px 1px);clip: rect(1px, 1px, 1px, 1px);height: 1px;margin: -1px;overflow: hidden;padding: 0;position: absolute;width: 1px;}#sk-container-id-20 div.sk-estimator {font-family: monospace;background-color: #f0f8ff;border: 1px dotted black;border-radius: 0.25em;box-sizing: border-box;margin-bottom: 0.5em;}#sk-container-id-20 div.sk-estimator:hover {background-color: #d4ebff;}#sk-container-id-20 div.sk-parallel-item::after {content: \"\";width: 100%;border-bottom: 1px solid gray;flex-grow: 1;}#sk-container-id-20 div.sk-label:hover label.sk-toggleable__label {background-color: #d4ebff;}#sk-container-id-20 div.sk-serial::before {content: \"\";position: absolute;border-left: 1px solid gray;box-sizing: border-box;top: 0;bottom: 0;left: 50%;z-index: 0;}#sk-container-id-20 div.sk-serial {display: flex;flex-direction: column;align-items: center;background-color: white;padding-right: 0.2em;padding-left: 0.2em;position: relative;}#sk-container-id-20 div.sk-item {position: relative;z-index: 1;}#sk-container-id-20 div.sk-parallel {display: flex;align-items: stretch;justify-content: center;background-color: white;position: relative;}#sk-container-id-20 div.sk-item::before, #sk-container-id-20 div.sk-parallel-item::before {content: \"\";position: absolute;border-left: 1px solid gray;box-sizing: border-box;top: 0;bottom: 0;left: 50%;z-index: -1;}#sk-container-id-20 div.sk-parallel-item {display: flex;flex-direction: column;z-index: 1;position: relative;background-color: white;}#sk-container-id-20 div.sk-parallel-item:first-child::after {align-self: flex-end;width: 50%;}#sk-container-id-20 div.sk-parallel-item:last-child::after {align-self: flex-start;width: 50%;}#sk-container-id-20 div.sk-parallel-item:only-child::after {width: 0;}#sk-container-id-20 div.sk-dashed-wrapped {border: 1px dashed gray;margin: 0 0.4em 0.5em 0.4em;box-sizing: border-box;padding-bottom: 0.4em;background-color: white;}#sk-container-id-20 div.sk-label label {font-family: monospace;font-weight: bold;display: inline-block;line-height: 1.2em;}#sk-container-id-20 div.sk-label-container {text-align: center;}#sk-container-id-20 div.sk-container {/* jupyter's `normalize.less` sets `[hidden] { display: none; }` but bootstrap.min.css set `[hidden] { display: none !important; }` so we also need the `!important` here to be able to override the default hidden behavior on the sphinx rendered scikit-learn.org. See: https://github.com/scikit-learn/scikit-learn/issues/21755 */display: inline-block !important;position: relative;}#sk-container-id-20 div.sk-text-repr-fallback {display: none;}</style><div id=\"sk-container-id-20\" class=\"sk-top-container\"><div class=\"sk-text-repr-fallback\"><pre>MultinomialNB()</pre><b>In a Jupyter environment, please rerun this cell to show the HTML representation or trust the notebook. <br />On GitHub, the HTML representation is unable to render, please try loading this page with nbviewer.org.</b></div><div class=\"sk-container\" hidden><div class=\"sk-item\"><div class=\"sk-estimator sk-toggleable\"><input class=\"sk-toggleable__control sk-hidden--visually\" id=\"sk-estimator-id-20\" type=\"checkbox\" checked><label for=\"sk-estimator-id-20\" class=\"sk-toggleable__label sk-toggleable__label-arrow\">MultinomialNB</label><div class=\"sk-toggleable__content\"><pre>MultinomialNB()</pre></div></div></div></div></div>"
      ],
      "text/plain": [
       "MultinomialNB()"
      ]
     },
     "execution_count": 240,
     "metadata": {},
     "output_type": "execute_result"
    }
   ],
   "source": [
    "clf.fit(X_train, y_train)"
   ]
  },
  {
   "cell_type": "code",
   "execution_count": 241,
   "id": "9cef1547",
   "metadata": {},
   "outputs": [],
   "source": [
    "y_pred = clf.predict(X_test)\n"
   ]
  },
  {
   "cell_type": "code",
   "execution_count": 242,
   "id": "c4e1a7b2",
   "metadata": {},
   "outputs": [
    {
     "name": "stdout",
     "output_type": "stream",
     "text": [
      "Accuracy: 0.6810097532989099\n"
     ]
    }
   ],
   "source": [
    "from sklearn import metrics\n",
    "print(\"Accuracy:\",metrics.accuracy_score(y_test, y_pred))"
   ]
  },
  {
   "cell_type": "code",
   "execution_count": 244,
   "id": "3f161806",
   "metadata": {},
   "outputs": [
    {
     "name": "stderr",
     "output_type": "stream",
     "text": [
      "/home/joseph/Desktop/ml lab/lab1/mlenv/lib/python3.10/site-packages/sklearn/utils/deprecation.py:87: FutureWarning: Function plot_confusion_matrix is deprecated; Function `plot_confusion_matrix` is deprecated in 1.0 and will be removed in 1.2. Use one of the class methods: ConfusionMatrixDisplay.from_predictions or ConfusionMatrixDisplay.from_estimator.\n",
      "  warnings.warn(msg, category=FutureWarning)\n"
     ]
    },
    {
     "data": {
      "image/png": "[encoded data removed]",
      "text/plain": [
       "<Figure size 432x288 with 2 Axes>"
      ]
     },
     "metadata": {
      "needs_background": "light"
     },
     "output_type": "display_data"
    }
   ],
   "source": [
    "import matplotlib.pyplot as plt\n",
    "from sklearn.metrics import plot_confusion_matrix\n",
    " \n",
    "color = 'black'\n",
    "matrix = plot_confusion_matrix(clf, X_test, y_test, cmap=plt.cm.Blues)\n",
    "matrix.ax_.set_title('Confusion Matrix', color=color)\n",
    "plt.xlabel('Predicted Label', color=color)\n",
    "plt.ylabel('True Label', color=color)\n",
    "plt.gcf().axes[0].tick_params(colors=color)\n",
    "plt.gcf().axes[1].tick_params(colors=color)\n",
    "plt.show()"
   ]
  },
  {
   "cell_type": "code",
   "execution_count": 243,
   "id": "60436c39",
   "metadata": {},
   "outputs": [
    {
     "name": "stdout",
     "output_type": "stream",
     "text": [
      "              precision    recall  f1-score   support\n",
      "\n",
      "           0       0.68      1.00      0.81      4748\n",
      "           1       0.00      0.00      0.00       733\n",
      "           2       0.00      0.00      0.00      1491\n",
      "\n",
      "    accuracy                           0.68      6972\n",
      "   macro avg       0.23      0.33      0.27      6972\n",
      "weighted avg       0.46      0.68      0.55      6972\n",
      "\n"
     ]
    },
    {
     "name": "stderr",
     "output_type": "stream",
     "text": [
      "/home/joseph/Desktop/ml lab/lab1/mlenv/lib/python3.10/site-packages/sklearn/metrics/_classification.py:1327: UndefinedMetricWarning: Precision and F-score are ill-defined and being set to 0.0 in labels with no predicted samples. Use `zero_division` parameter to control this behavior.\n",
      "  _warn_prf(average, modifier, msg_start, len(result))\n",
      "/home/joseph/Desktop/ml lab/lab1/mlenv/lib/python3.10/site-packages/sklearn/metrics/_classification.py:1327: UndefinedMetricWarning: Precision and F-score are ill-defined and being set to 0.0 in labels with no predicted samples. Use `zero_division` parameter to control this behavior.\n",
      "  _warn_prf(average, modifier, msg_start, len(result))\n",
      "/home/joseph/Desktop/ml lab/lab1/mlenv/lib/python3.10/site-packages/sklearn/metrics/_classification.py:1327: UndefinedMetricWarning: Precision and F-score are ill-defined and being set to 0.0 in labels with no predicted samples. Use `zero_division` parameter to control this behavior.\n",
      "  _warn_prf(average, modifier, msg_start, len(result))\n"
     ]
    }
   ],
   "source": [
    "from sklearn.metrics import classification_report\n",
    " \n",
    "print(classification_report(y_test, y_pred))"
   ]
  },
  {
   "cell_type": "code",
   "execution_count": null,
   "id": "96ebf703",
   "metadata": {},
   "outputs": [],
   "source": []
  },
  {
   "cell_type": "markdown",
   "id": "c9dfc0db",
   "metadata": {},
   "source": [
    "**We can infer that Naive Bayes provides less accuracy than KNN**\n",
    "<br/>\n",
    "Comparing different Naive Bayes methods, we can see that an accuracy rate of 68% is shown when compared with KNN, we can infer that KNN shows an accuracy of 81%. Hence for this particular dataset KNN is a well suited algorithm than Naive Bayes"
   ]
  },
  {
   "cell_type": "code",
   "execution_count": null,
   "id": "1792fa96",
   "metadata": {},
   "outputs": [],
   "source": []
  }
 ],
 "metadata": {
  "kernelspec": {
   "display_name": "Python 3 (ipykernel)",
   "language": "python",
   "name": "python3"
  },
  "language_info": {
   "codemirror_mode": {
    "name": "ipython",
    "version": 3
   },
   "file_extension": ".py",
   "mimetype": "text/x-python",
   "name": "python",
   "nbconvert_exporter": "python",
   "pygments_lexer": "ipython3",
   "version": "3.10.6"
  },
  "vscode": {
   "interpreter": {
    "hash": "c44f73db6d96c831961de92aa994b06e438720835dcca4f9cc2d97d21d6ec455"
   }
  }
 },
 "nbformat": 4,
 "nbformat_minor": 5
}
